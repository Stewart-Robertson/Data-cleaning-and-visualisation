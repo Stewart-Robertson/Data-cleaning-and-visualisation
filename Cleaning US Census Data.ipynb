{
 "cells": [
  {
   "cell_type": "markdown",
   "metadata": {
    "toc": true
   },
   "source": [
    "<h1>Table of Contents<span class=\"tocSkip\"></span></h1>\n",
    "<div class=\"toc\"><ul class=\"toc-item\"><li><span><a href=\"#Census-data\" data-toc-modified-id=\"Census-data-1\"><span class=\"toc-item-num\">1&nbsp;&nbsp;</span>Census data</a></span><ul class=\"toc-item\"><li><span><a href=\"#Merging-the-datasets\" data-toc-modified-id=\"Merging-the-datasets-1.1\"><span class=\"toc-item-num\">1.1&nbsp;&nbsp;</span>Merging the datasets</a></span><ul class=\"toc-item\"><li><span><a href=\"#Function-to-read-the-combined-data\" data-toc-modified-id=\"Function-to-read-the-combined-data-1.1.1\"><span class=\"toc-item-num\">1.1.1&nbsp;&nbsp;</span>Function to read the combined data</a></span></li></ul></li></ul></li><li><span><a href=\"#Cleaning-the-data\" data-toc-modified-id=\"Cleaning-the-data-2\"><span class=\"toc-item-num\">2&nbsp;&nbsp;</span>Cleaning the data</a></span><ul class=\"toc-item\"><li><span><a href=\"#Removing-unwanted-expressions\" data-toc-modified-id=\"Removing-unwanted-expressions-2.1\"><span class=\"toc-item-num\">2.1&nbsp;&nbsp;</span>Removing unwanted expressions</a></span></li><li><span><a href=\"#Checking-for-nans\" data-toc-modified-id=\"Checking-for-nans-2.2\"><span class=\"toc-item-num\">2.2&nbsp;&nbsp;</span>Checking for <code>nan</code>s</a></span></li><li><span><a href=\"#Checking-for-duplicates\" data-toc-modified-id=\"Checking-for-duplicates-2.3\"><span class=\"toc-item-num\">2.3&nbsp;&nbsp;</span>Checking for duplicates</a></span></li><li><span><a href=\"#Converting-datatypes\" data-toc-modified-id=\"Converting-datatypes-2.4\"><span class=\"toc-item-num\">2.4&nbsp;&nbsp;</span>Converting datatypes</a></span></li></ul></li><li><span><a href=\"#Scatterplot\" data-toc-modified-id=\"Scatterplot-3\"><span class=\"toc-item-num\">3&nbsp;&nbsp;</span>Scatterplot</a></span></li><li><span><a href=\"#Histograms\" data-toc-modified-id=\"Histograms-4\"><span class=\"toc-item-num\">4&nbsp;&nbsp;</span>Histograms</a></span></li></ul></div>"
   ]
  },
  {
   "cell_type": "code",
   "execution_count": 1,
   "metadata": {},
   "outputs": [],
   "source": [
    "import pandas as pd\n",
    "import numpy as np\n",
    "import matplotlib.pyplot as plt\n",
    "import seaborn as sns\n",
    "import glob"
   ]
  },
  {
   "cell_type": "markdown",
   "metadata": {},
   "source": [
    "# Census data"
   ]
  },
  {
   "cell_type": "markdown",
   "metadata": {},
   "source": [
    "The data used in this project is US census data for 10 states. Each state has its own csv file.\n",
    "\n",
    "The aim is to combine the data, clean it, and prepare it for analysis.\n",
    "\n",
    "The data can then be put to use to make some graphs - namely a scatterplot and some histograms.\n",
    "\n",
    "*note - this project is only using a small sample of data from the full US census - the purpose is to put into practice data cleaning and then do some modeling on the result.*"
   ]
  },
  {
   "cell_type": "code",
   "execution_count": 2,
   "metadata": {},
   "outputs": [
    {
     "data": {
      "text/html": [
       "<div>\n",
       "<style scoped>\n",
       "    .dataframe tbody tr th:only-of-type {\n",
       "        vertical-align: middle;\n",
       "    }\n",
       "\n",
       "    .dataframe tbody tr th {\n",
       "        vertical-align: top;\n",
       "    }\n",
       "\n",
       "    .dataframe thead th {\n",
       "        text-align: right;\n",
       "    }\n",
       "</style>\n",
       "<table border=\"1\" class=\"dataframe\">\n",
       "  <thead>\n",
       "    <tr style=\"text-align: right;\">\n",
       "      <th></th>\n",
       "      <th>Unnamed: 0</th>\n",
       "      <th>State</th>\n",
       "      <th>TotalPop</th>\n",
       "      <th>Hispanic</th>\n",
       "      <th>White</th>\n",
       "      <th>Black</th>\n",
       "      <th>Native</th>\n",
       "      <th>Asian</th>\n",
       "      <th>Pacific</th>\n",
       "      <th>Income</th>\n",
       "      <th>GenderPop</th>\n",
       "    </tr>\n",
       "  </thead>\n",
       "  <tbody>\n",
       "    <tr>\n",
       "      <th>0</th>\n",
       "      <td>0</td>\n",
       "      <td>Alabama</td>\n",
       "      <td>4830620</td>\n",
       "      <td>3.7516156462584975%</td>\n",
       "      <td>61.878656462585%</td>\n",
       "      <td>31.25297619047618%</td>\n",
       "      <td>0.4532312925170065%</td>\n",
       "      <td>1.0502551020408146%</td>\n",
       "      <td>0.03435374149659865%</td>\n",
       "      <td>$43296.35860306644</td>\n",
       "      <td>2341093M_2489527F</td>\n",
       "    </tr>\n",
       "    <tr>\n",
       "      <th>1</th>\n",
       "      <td>1</td>\n",
       "      <td>Alaska</td>\n",
       "      <td>733375</td>\n",
       "      <td>5.909580838323351%</td>\n",
       "      <td>60.910179640718574%</td>\n",
       "      <td>2.8485029940119775%</td>\n",
       "      <td>16.39101796407186%</td>\n",
       "      <td>5.450299401197604%</td>\n",
       "      <td>1.0586826347305378%</td>\n",
       "      <td>$70354.74390243902</td>\n",
       "      <td>384160M_349215F</td>\n",
       "    </tr>\n",
       "    <tr>\n",
       "      <th>2</th>\n",
       "      <td>2</td>\n",
       "      <td>Arizona</td>\n",
       "      <td>6641928</td>\n",
       "      <td>29.565921052631502%</td>\n",
       "      <td>57.120000000000026%</td>\n",
       "      <td>3.8509868421052658%</td>\n",
       "      <td>4.35506578947368%</td>\n",
       "      <td>2.876578947368419%</td>\n",
       "      <td>0.16763157894736833%</td>\n",
       "      <td>$54207.82095490716</td>\n",
       "      <td>3299088M_3342840F</td>\n",
       "    </tr>\n",
       "    <tr>\n",
       "      <th>3</th>\n",
       "      <td>3</td>\n",
       "      <td>Arkansas</td>\n",
       "      <td>2958208</td>\n",
       "      <td>6.215474452554738%</td>\n",
       "      <td>71.13781021897813%</td>\n",
       "      <td>18.968759124087573%</td>\n",
       "      <td>0.5229197080291965%</td>\n",
       "      <td>1.1423357664233578%</td>\n",
       "      <td>0.14686131386861315%</td>\n",
       "      <td>$41935.63396778917</td>\n",
       "      <td>1451913M_1506295F</td>\n",
       "    </tr>\n",
       "    <tr>\n",
       "      <th>4</th>\n",
       "      <td>4</td>\n",
       "      <td>California</td>\n",
       "      <td>38421464</td>\n",
       "      <td>37.291874687968054%</td>\n",
       "      <td>40.21578881677474%</td>\n",
       "      <td>5.677396405391911%</td>\n",
       "      <td>0.40529206190713685%</td>\n",
       "      <td>13.052234148776776%</td>\n",
       "      <td>0.35141038442336353%</td>\n",
       "      <td>$67264.78230266465</td>\n",
       "      <td>19087135M_19334329F</td>\n",
       "    </tr>\n",
       "  </tbody>\n",
       "</table>\n",
       "</div>"
      ],
      "text/plain": [
       "   Unnamed: 0       State  TotalPop             Hispanic                White  \\\n",
       "0           0     Alabama   4830620  3.7516156462584975%     61.878656462585%   \n",
       "1           1      Alaska    733375   5.909580838323351%  60.910179640718574%   \n",
       "2           2     Arizona   6641928  29.565921052631502%  57.120000000000026%   \n",
       "3           3    Arkansas   2958208   6.215474452554738%   71.13781021897813%   \n",
       "4           4  California  38421464  37.291874687968054%   40.21578881677474%   \n",
       "\n",
       "                 Black                Native                Asian  \\\n",
       "0   31.25297619047618%   0.4532312925170065%  1.0502551020408146%   \n",
       "1  2.8485029940119775%    16.39101796407186%   5.450299401197604%   \n",
       "2  3.8509868421052658%     4.35506578947368%   2.876578947368419%   \n",
       "3  18.968759124087573%   0.5229197080291965%  1.1423357664233578%   \n",
       "4   5.677396405391911%  0.40529206190713685%  13.052234148776776%   \n",
       "\n",
       "                Pacific              Income            GenderPop  \n",
       "0  0.03435374149659865%  $43296.35860306644    2341093M_2489527F  \n",
       "1   1.0586826347305378%  $70354.74390243902      384160M_349215F  \n",
       "2  0.16763157894736833%  $54207.82095490716    3299088M_3342840F  \n",
       "3  0.14686131386861315%  $41935.63396778917    1451913M_1506295F  \n",
       "4  0.35141038442336353%  $67264.78230266465  19087135M_19334329F  "
      ]
     },
     "execution_count": 2,
     "metadata": {},
     "output_type": "execute_result"
    }
   ],
   "source": [
    "states_0 = pd.read_csv('states0.csv')\n",
    "states_0.head()"
   ]
  },
  {
   "cell_type": "markdown",
   "metadata": {},
   "source": [
    "The data files follow the naming convention \"states(NUMBER).csv\" - so we can combine them and read them in with a script"
   ]
  },
  {
   "cell_type": "markdown",
   "metadata": {},
   "source": [
    "## Merging the datasets"
   ]
  },
  {
   "cell_type": "code",
   "execution_count": 3,
   "metadata": {},
   "outputs": [],
   "source": [
    "# merge all the census data files together\n",
    "census_files_combined = glob.glob('states[0-9].csv')"
   ]
  },
  {
   "cell_type": "code",
   "execution_count": 4,
   "metadata": {},
   "outputs": [
    {
     "data": {
      "text/plain": [
       "['states0.csv',\n",
       " 'states1.csv',\n",
       " 'states2.csv',\n",
       " 'states3.csv',\n",
       " 'states4.csv',\n",
       " 'states5.csv',\n",
       " 'states6.csv',\n",
       " 'states7.csv',\n",
       " 'states8.csv',\n",
       " 'states9.csv']"
      ]
     },
     "execution_count": 4,
     "metadata": {},
     "output_type": "execute_result"
    }
   ],
   "source": [
    "census_files_combined"
   ]
  },
  {
   "cell_type": "markdown",
   "metadata": {},
   "source": [
    "### Function to read the combined data"
   ]
  },
  {
   "cell_type": "code",
   "execution_count": 5,
   "metadata": {},
   "outputs": [
    {
     "name": "stdout",
     "output_type": "stream",
     "text": [
      "Index(['Unnamed: 0', 'State', 'TotalPop', 'Hispanic', 'White', 'Black',\n",
      "       'Native', 'Asian', 'Pacific', 'Income', 'GenderPop'],\n",
      "      dtype='object')\n"
     ]
    }
   ],
   "source": [
    "us_census_data = []\n",
    "for file in census_files_combined:\n",
    "    data = pd.read_csv(file)\n",
    "    us_census_data.append(data)\n",
    "    \n",
    "# join the DataFrames together to get a continuous DataFrame:\n",
    "us_census = pd.concat(us_census_data)\n",
    "print(us_census.columns)"
   ]
  },
  {
   "cell_type": "code",
   "execution_count": 6,
   "metadata": {},
   "outputs": [
    {
     "name": "stdout",
     "output_type": "stream",
     "text": [
      "Unnamed: 0     int64\n",
      "State         object\n",
      "TotalPop       int64\n",
      "Hispanic      object\n",
      "White         object\n",
      "Black         object\n",
      "Native        object\n",
      "Asian         object\n",
      "Pacific       object\n",
      "Income        object\n",
      "GenderPop     object\n",
      "dtype: object\n"
     ]
    }
   ],
   "source": [
    "# finding out what datatypes are present in each column of the data\n",
    "print(us_census.dtypes)"
   ]
  },
  {
   "cell_type": "markdown",
   "metadata": {},
   "source": [
    "The majority of the columns are *non-numeric*, which is likely going to mean that at least some of them will need to be changed in order to model the data."
   ]
  },
  {
   "cell_type": "code",
   "execution_count": 7,
   "metadata": {},
   "outputs": [
    {
     "data": {
      "text/plain": [
       "(60, 11)"
      ]
     },
     "execution_count": 7,
     "metadata": {},
     "output_type": "execute_result"
    }
   ],
   "source": [
    "us_census.shape"
   ]
  },
  {
   "cell_type": "code",
   "execution_count": 8,
   "metadata": {},
   "outputs": [
    {
     "data": {
      "text/html": [
       "<div>\n",
       "<style scoped>\n",
       "    .dataframe tbody tr th:only-of-type {\n",
       "        vertical-align: middle;\n",
       "    }\n",
       "\n",
       "    .dataframe tbody tr th {\n",
       "        vertical-align: top;\n",
       "    }\n",
       "\n",
       "    .dataframe thead th {\n",
       "        text-align: right;\n",
       "    }\n",
       "</style>\n",
       "<table border=\"1\" class=\"dataframe\">\n",
       "  <thead>\n",
       "    <tr style=\"text-align: right;\">\n",
       "      <th></th>\n",
       "      <th>Unnamed: 0</th>\n",
       "      <th>State</th>\n",
       "      <th>TotalPop</th>\n",
       "      <th>Hispanic</th>\n",
       "      <th>White</th>\n",
       "      <th>Black</th>\n",
       "      <th>Native</th>\n",
       "      <th>Asian</th>\n",
       "      <th>Pacific</th>\n",
       "      <th>Income</th>\n",
       "      <th>GenderPop</th>\n",
       "    </tr>\n",
       "  </thead>\n",
       "  <tbody>\n",
       "    <tr>\n",
       "      <th>0</th>\n",
       "      <td>0</td>\n",
       "      <td>Alabama</td>\n",
       "      <td>4830620</td>\n",
       "      <td>3.7516156462584975%</td>\n",
       "      <td>61.878656462585%</td>\n",
       "      <td>31.25297619047618%</td>\n",
       "      <td>0.4532312925170065%</td>\n",
       "      <td>1.0502551020408146%</td>\n",
       "      <td>0.03435374149659865%</td>\n",
       "      <td>$43296.35860306644</td>\n",
       "      <td>2341093M_2489527F</td>\n",
       "    </tr>\n",
       "  </tbody>\n",
       "</table>\n",
       "</div>"
      ],
      "text/plain": [
       "   Unnamed: 0    State  TotalPop             Hispanic             White  \\\n",
       "0           0  Alabama   4830620  3.7516156462584975%  61.878656462585%   \n",
       "\n",
       "                Black               Native                Asian  \\\n",
       "0  31.25297619047618%  0.4532312925170065%  1.0502551020408146%   \n",
       "\n",
       "                Pacific              Income          GenderPop  \n",
       "0  0.03435374149659865%  $43296.35860306644  2341093M_2489527F  "
      ]
     },
     "execution_count": 8,
     "metadata": {},
     "output_type": "execute_result"
    }
   ],
   "source": [
    "us_census.head(1)"
   ]
  },
  {
   "cell_type": "markdown",
   "metadata": {},
   "source": [
    "# Cleaning the data"
   ]
  },
  {
   "cell_type": "markdown",
   "metadata": {},
   "source": [
    "## Removing unwanted expressions"
   ]
  },
  {
   "cell_type": "code",
   "execution_count": 9,
   "metadata": {},
   "outputs": [],
   "source": [
    "# using regex to turn the 'Income' column into a data format that is ready for conversion to numeric, i.e. remove the '$' sign:\n",
    "us_census['Income'] = us_census['Income'].replace('[\\$,]', '', regex=True)"
   ]
  },
  {
   "cell_type": "code",
   "execution_count": 10,
   "metadata": {},
   "outputs": [],
   "source": [
    "# splitting the 'GenderPop' column into two columns - male and female:\n",
    "gender_pop_split = us_census.GenderPop.str.split('_') # split at the underscore\n",
    "\n",
    "# the M for male is the first letter in each entry, so use index 0\n",
    "us_census['Men'] = gender_pop_split.str.get(0)\n",
    "# the F for female is the second letter in each entry, so use index 1\n",
    "us_census['Women'] = gender_pop_split.str.get(1)"
   ]
  },
  {
   "cell_type": "code",
   "execution_count": 11,
   "metadata": {},
   "outputs": [],
   "source": [
    "# the numbers in the Men and Women columns still have 'M' or 'F' at the end of them\n",
    "# Need to remove before converting from object to numeric.\n",
    "us_census['Men'] = us_census['Men'].replace('[M]', '', regex=True)\n",
    "us_census['Women'] = us_census['Women'].replace('[F]', '', regex=True)"
   ]
  },
  {
   "cell_type": "code",
   "execution_count": 12,
   "metadata": {},
   "outputs": [],
   "source": [
    "# converting both columns to numeric:\n",
    "us_census['Men'] = pd.to_numeric(us_census['Men'])\n",
    "us_census['Women'] = pd.to_numeric(us_census['Women'])"
   ]
  },
  {
   "cell_type": "markdown",
   "metadata": {},
   "source": [
    "## Checking for `nan`s"
   ]
  },
  {
   "cell_type": "code",
   "execution_count": 13,
   "metadata": {},
   "outputs": [
    {
     "data": {
      "text/plain": [
       "Unnamed: 0    False\n",
       "State         False\n",
       "TotalPop      False\n",
       "Hispanic      False\n",
       "White         False\n",
       "Black         False\n",
       "Native        False\n",
       "Asian         False\n",
       "Pacific        True\n",
       "Income        False\n",
       "GenderPop     False\n",
       "Men           False\n",
       "Women          True\n",
       "dtype: bool"
      ]
     },
     "execution_count": 13,
     "metadata": {},
     "output_type": "execute_result"
    }
   ],
   "source": [
    "us_census.isna().any()"
   ]
  },
  {
   "cell_type": "code",
   "execution_count": 14,
   "metadata": {},
   "outputs": [],
   "source": [
    "# the Women column has 'nan' entries - need to replace them\n",
    "# for these nan entries, we can estimate their value would be the total state population minus the Men in that state:\n",
    "us_census = us_census.fillna(value={'Women':us_census['TotalPop'] - us_census['Men']})"
   ]
  },
  {
   "cell_type": "code",
   "execution_count": 15,
   "metadata": {},
   "outputs": [
    {
     "name": "stdout",
     "output_type": "stream",
     "text": [
      "0     2489527.0\n",
      "1      349215.0\n",
      "2     3342840.0\n",
      "3     1506295.0\n",
      "4    19334329.0\n",
      "5     2630239.0\n",
      "0     2630239.0\n",
      "1     1841615.0\n",
      "2      478041.0\n",
      "3      340810.0\n",
      "4    10045763.0\n",
      "5     5123362.0\n",
      "0     5123362.0\n",
      "1      696428.0\n",
      "2      806083.0\n",
      "3     6556862.0\n",
      "4     3333382.0\n",
      "5     1558931.0\n",
      "0     1558931.0\n",
      "1     1453125.0\n",
      "2     2233145.0\n",
      "3     2364097.0\n",
      "4      679019.0\n",
      "5     3057895.0\n",
      "0     3057895.0\n",
      "1     3455936.0\n",
      "2     5038598.0\n",
      "3     2727005.0\n",
      "4     1536358.0\n",
      "5     3081445.0\n",
      "0     3081445.0\n",
      "1      504536.0\n",
      "2      939759.0\n",
      "3     1390901.0\n",
      "4      670717.0\n",
      "5     4561386.0\n",
      "0     4561386.0\n",
      "1     1051703.0\n",
      "2    10131373.0\n",
      "3     5049925.0\n",
      "4      353677.0\n",
      "5     5913084.0\n",
      "0     5913084.0\n",
      "1     1942789.0\n",
      "2     1990780.0\n",
      "3     6534215.0\n",
      "4     1869213.0\n",
      "5      543273.0\n",
      "0      543273.0\n",
      "1     2455167.0\n",
      "2      419713.0\n",
      "3     3331859.0\n",
      "4    13367298.0\n",
      "5     1444150.0\n",
      "0     1444150.0\n",
      "1      318031.0\n",
      "2     4195682.0\n",
      "3     3497739.0\n",
      "4      937789.0\n",
      "5     2890732.0\n",
      "Name: Women, dtype: float64\n"
     ]
    }
   ],
   "source": [
    "print(us_census.Women)"
   ]
  },
  {
   "cell_type": "code",
   "execution_count": 16,
   "metadata": {},
   "outputs": [],
   "source": [
    "# there are \"nan\" values in the Pacific ethnicity column\n",
    "# Before we can plot the histogram, these nan values will have to be replaced with something else\n",
    "# can assume that there's nobody of Pacific descent in these states, so set nan=0:\n",
    "us_census = us_census.fillna(value={'Pacific': us_census['Pacific']=='0'}) "
   ]
  },
  {
   "cell_type": "markdown",
   "metadata": {},
   "source": [
    "## Checking for duplicates"
   ]
  },
  {
   "cell_type": "code",
   "execution_count": 17,
   "metadata": {},
   "outputs": [],
   "source": [
    "# check for duplicates\n",
    "duplicates = us_census.duplicated()"
   ]
  },
  {
   "cell_type": "code",
   "execution_count": 18,
   "metadata": {},
   "outputs": [
    {
     "data": {
      "text/plain": [
       "False"
      ]
     },
     "execution_count": 18,
     "metadata": {},
     "output_type": "execute_result"
    }
   ],
   "source": [
    "duplicates.any()"
   ]
  },
  {
   "cell_type": "markdown",
   "metadata": {},
   "source": [
    "## Converting datatypes"
   ]
  },
  {
   "cell_type": "markdown",
   "metadata": {},
   "source": [
    "Below is a function that will take in a number and round it to one decimal place. It will be used to apply to the `Income` column before plotting"
   ]
  },
  {
   "cell_type": "code",
   "execution_count": 19,
   "metadata": {},
   "outputs": [],
   "source": [
    "def round_num(number):\n",
    "    new_num=np.round(int(number), decimals=1)\n",
    "    return new_num"
   ]
  },
  {
   "cell_type": "code",
   "execution_count": 20,
   "metadata": {},
   "outputs": [
    {
     "name": "stdout",
     "output_type": "stream",
     "text": [
      "<class 'pandas.core.frame.DataFrame'>\n",
      "Int64Index: 60 entries, 0 to 5\n",
      "Data columns (total 13 columns):\n",
      " #   Column      Non-Null Count  Dtype  \n",
      "---  ------      --------------  -----  \n",
      " 0   Unnamed: 0  60 non-null     int64  \n",
      " 1   State       60 non-null     object \n",
      " 2   TotalPop    60 non-null     int64  \n",
      " 3   Hispanic    60 non-null     object \n",
      " 4   White       60 non-null     object \n",
      " 5   Black       60 non-null     object \n",
      " 6   Native      60 non-null     object \n",
      " 7   Asian       60 non-null     object \n",
      " 8   Pacific     60 non-null     object \n",
      " 9   Income      60 non-null     object \n",
      " 10  GenderPop   60 non-null     object \n",
      " 11  Men         60 non-null     int64  \n",
      " 12  Women       60 non-null     float64\n",
      "dtypes: float64(1), int64(3), object(9)\n",
      "memory usage: 6.6+ KB\n"
     ]
    }
   ],
   "source": [
    "# printing the DataFrame info and the datatypes once more\n",
    "us_census.info()"
   ]
  },
  {
   "cell_type": "code",
   "execution_count": 21,
   "metadata": {},
   "outputs": [],
   "source": [
    "# converting the Income column to numeric\n",
    "us_census['Income'] = pd.to_numeric(us_census['Income'])"
   ]
  },
  {
   "cell_type": "code",
   "execution_count": 22,
   "metadata": {},
   "outputs": [],
   "source": [
    "# applying the rounding function to the Income column\n",
    "us_census['Income'] = us_census['Income'].apply(round_num)"
   ]
  },
  {
   "cell_type": "markdown",
   "metadata": {},
   "source": [
    "# Scatterplot"
   ]
  },
  {
   "cell_type": "code",
   "execution_count": 23,
   "metadata": {},
   "outputs": [
    {
     "data": {
      "image/png": "[encoded data removed]",
      "text/plain": [
       "<Figure size 576x360 with 1 Axes>"
      ]
     },
     "metadata": {},
     "output_type": "display_data"
    }
   ],
   "source": [
    "# arbitrarily choose to plot women vs income\n",
    "sns.set(style='darkgrid')\n",
    "plt.figure(figsize=(8,5))\n",
    "\n",
    "sns.scatterplot(data=us_census, x=\"Women\", y=\"Income\").set_title(\"Scatterplot of Women's Income\", fontsize=14)\n",
    "plt.show()\n",
    "plt.close()"
   ]
  },
  {
   "cell_type": "markdown",
   "metadata": {},
   "source": [
    "# Histograms"
   ]
  },
  {
   "cell_type": "markdown",
   "metadata": {},
   "source": [
    "It will be interesting to plot the demography of the US using the data (while remembering that this is only a sample and is unlikely to accurately reflect the whole population).\n",
    "\n",
    "We can plot this on multiple axes within the same plot."
   ]
  },
  {
   "cell_type": "code",
   "execution_count": 24,
   "metadata": {},
   "outputs": [],
   "source": [
    "# before plotting histograms, need to remove unwanted characters\n",
    "# will have to get rid of the '%' signs in each row, and convert each column to numeric\n",
    "# getting rid of all % signs:\n",
    "us_census['Hispanic']= us_census['Hispanic'].replace('[\\%,]', '', regex=True)\n",
    "us_census['White']= us_census['White'].replace('[\\%,]', '', regex=True)\n",
    "us_census['Black']= us_census['Black'].replace('[\\%,]', '', regex=True)\n",
    "us_census['Native']= us_census['Native'].replace('[\\%,]', '', regex=True)\n",
    "us_census['Asian']= us_census['Asian'].replace('[\\%,]', '', regex=True)\n",
    "us_census['Pacific']= us_census['Pacific'].replace('[\\%,]', '', regex=True)\n",
    "# then convert all the columns to numeric:\n",
    "us_census['Hispanic'] = pd.to_numeric(us_census['Hispanic'])\n",
    "us_census['White'] = pd.to_numeric(us_census['White'])\n",
    "us_census['Black'] = pd.to_numeric(us_census['Black'])\n",
    "us_census['Native'] = pd.to_numeric(us_census['Native'])\n",
    "us_census['Asian'] = pd.to_numeric(us_census['Asian'])\n",
    "us_census['Pacific'] = pd.to_numeric(us_census['Pacific'])"
   ]
  },
  {
   "cell_type": "code",
   "execution_count": 25,
   "metadata": {},
   "outputs": [
    {
     "data": {
      "image/png": "[encoded data removed]",
      "text/plain": [
       "<Figure size 1008x864 with 6 Axes>"
      ]
     },
     "metadata": {},
     "output_type": "display_data"
    }
   ],
   "source": [
    "fig, axes = plt.subplots(2, 3, figsize=(14, 12))\n",
    "plt.suptitle('Demography of the US (from this sample data)', fontsize=16)\n",
    "\n",
    "ax1 = plt.subplot(2, 3, 1).set_title('Hispanic population')\n",
    "ax1 = plt.hist(us_census.Hispanic, bins=20)\n",
    "\n",
    "ax2 = plt.subplot(2, 3, 2).set_title('White population')\n",
    "ax2 = plt.hist(us_census.White, bins=20)\n",
    "\n",
    "ax3 = plt.subplot(2, 3, 3).set_title('Black population')\n",
    "ax3 = plt.hist(us_census.Black, bins=20)\n",
    "\n",
    "ax4 = plt.subplot(2, 3, 4).set_title('Native population')\n",
    "ax4 = plt.hist(us_census.Native, bins=20)\n",
    "\n",
    "ax5 = plt.subplot(2, 3, 5).set_title('Asian population')\n",
    "ax5 = plt.hist(us_census.Asian, bins=20)\n",
    "\n",
    "ax6 = plt.subplot(2, 3, 6).set_title('Pacific population')\n",
    "ax6 = plt.hist(us_census.Pacific)\n",
    "plt.show()\n",
    "plt.close()"
   ]
  }
 ],
 "metadata": {
  "kernelspec": {
   "display_name": "Python 3",
   "language": "python",
   "name": "python3"
  },
  "language_info": {
   "codemirror_mode": {
    "name": "ipython",
    "version": 3
   },
   "file_extension": ".py",
   "mimetype": "text/x-python",
   "name": "python",
   "nbconvert_exporter": "python",
   "pygments_lexer": "ipython3",
   "version": "3.7.4"
  },
  "toc": {
   "base_numbering": 1,
   "nav_menu": {},
   "number_sections": true,
   "sideBar": true,
   "skip_h1_title": false,
   "title_cell": "Table of Contents",
   "title_sidebar": "Contents",
   "toc_cell": true,
   "toc_position": {},
   "toc_section_display": true,
   "toc_window_display": true
  },
  "varInspector": {
   "cols": {
    "lenName": 16,
    "lenType": 16,
    "lenVar": 40
   },
   "kernels_config": {
    "python": {
     "delete_cmd_postfix": "",
     "delete_cmd_prefix": "del ",
     "library": "var_list.py",
     "varRefreshCmd": "print(var_dic_list())"
    },
    "r": {
     "delete_cmd_postfix": ") ",
     "delete_cmd_prefix": "rm(",
     "library": "var_list.r",
     "varRefreshCmd": "cat(var_dic_list()) "
    }
   },
   "types_to_exclude": [
    "module",
    "function",
    "builtin_function_or_method",
    "instance",
    "_Feature"
   ],
   "window_display": false
  }
 },
 "nbformat": 4,
 "nbformat_minor": 4
}
