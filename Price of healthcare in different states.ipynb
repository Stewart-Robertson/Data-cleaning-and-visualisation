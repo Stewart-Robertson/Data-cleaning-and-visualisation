{
 "cells": [
  {
   "cell_type": "markdown",
   "metadata": {
    "toc": true
   },
   "source": [
    "<h1>Table of Contents<span class=\"tocSkip\"></span></h1>\n",
    "<div class=\"toc\"><ul class=\"toc-item\"><li><span><a href=\"#Price-of-Healthcare-across-America\" data-toc-modified-id=\"Price-of-Healthcare-across-America-1\"><span class=\"toc-item-num\">1&nbsp;&nbsp;</span>Price of Healthcare across America</a></span><ul class=\"toc-item\"><li><span><a href=\"#The-data\" data-toc-modified-id=\"The-data-1.1\"><span class=\"toc-item-num\">1.1&nbsp;&nbsp;</span>The data</a></span></li></ul></li><li><span><a href=\"#The-reason-for-admission\" data-toc-modified-id=\"The-reason-for-admission-2\"><span class=\"toc-item-num\">2&nbsp;&nbsp;</span>The reason for admission</a></span></li><li><span><a href=\"#Non-Specialist-Admission\" data-toc-modified-id=\"Non-Specialist-Admission-3\"><span class=\"toc-item-num\">3&nbsp;&nbsp;</span>Non-Specialist Admission</a></span><ul class=\"toc-item\"><li><span><a href=\"#Price-of-admission-for-chest-pain\" data-toc-modified-id=\"Price-of-admission-for-chest-pain-3.1\"><span class=\"toc-item-num\">3.1&nbsp;&nbsp;</span>Price of admission for chest pain</a></span><ul class=\"toc-item\"><li><span><a href=\"#Having-a-look-at-New-York-only-first\" data-toc-modified-id=\"Having-a-look-at-New-York-only-first-3.1.1\"><span class=\"toc-item-num\">3.1.1&nbsp;&nbsp;</span>Having a look at New York only first</a></span></li><li><span><a href=\"#Exploring-the-whole-chest_pain-DataFrame\" data-toc-modified-id=\"Exploring-the-whole-chest_pain-DataFrame-3.1.2\"><span class=\"toc-item-num\">3.1.2&nbsp;&nbsp;</span>Exploring the whole <code>chest_pain</code> DataFrame</a></span></li><li><span><a href=\"#Selecting-out-the-data-for-all-states-individually\" data-toc-modified-id=\"Selecting-out-the-data-for-all-states-individually-3.1.3\"><span class=\"toc-item-num\">3.1.3&nbsp;&nbsp;</span>Selecting out the data for all states individually</a></span></li><li><span><a href=\"#Boxplot-of-cost-across-all-states\" data-toc-modified-id=\"Boxplot-of-cost-across-all-states-3.1.4\"><span class=\"toc-item-num\">3.1.4&nbsp;&nbsp;</span>Boxplot of cost across all states</a></span></li></ul></li><li><span><a href=\"#Alcohol-&amp;-drug-abuse-admissions\" data-toc-modified-id=\"Alcohol-&amp;-drug-abuse-admissions-3.2\"><span class=\"toc-item-num\">3.2&nbsp;&nbsp;</span>Alcohol &amp; drug abuse admissions</a></span><ul class=\"toc-item\"><li><span><a href=\"#Boxplot-across-all-states\" data-toc-modified-id=\"Boxplot-across-all-states-3.2.1\"><span class=\"toc-item-num\">3.2.1&nbsp;&nbsp;</span>Boxplot across all states</a></span></li></ul></li></ul></li><li><span><a href=\"#Specialist-Admission\" data-toc-modified-id=\"Specialist-Admission-4\"><span class=\"toc-item-num\">4&nbsp;&nbsp;</span>Specialist Admission</a></span><ul class=\"toc-item\"><li><span><a href=\"#Joint-replacement-or-limb-reattachment\" data-toc-modified-id=\"Joint-replacement-or-limb-reattachment-4.1\"><span class=\"toc-item-num\">4.1&nbsp;&nbsp;</span>Joint replacement or limb reattachment</a></span><ul class=\"toc-item\"><li><span><a href=\"#Boxplot-across-all-states\" data-toc-modified-id=\"Boxplot-across-all-states-4.1.1\"><span class=\"toc-item-num\">4.1.1&nbsp;&nbsp;</span>Boxplot across all states</a></span></li></ul></li><li><span><a href=\"#Mental-Health-Admission\" data-toc-modified-id=\"Mental-Health-Admission-4.2\"><span class=\"toc-item-num\">4.2&nbsp;&nbsp;</span>Mental Health Admission</a></span><ul class=\"toc-item\"><li><span><a href=\"#Boxplot-across-all-states\" data-toc-modified-id=\"Boxplot-across-all-states-4.2.1\"><span class=\"toc-item-num\">4.2.1&nbsp;&nbsp;</span>Boxplot across all states</a></span></li></ul></li></ul></li><li><span><a href=\"#Results-so-far\" data-toc-modified-id=\"Results-so-far-5\"><span class=\"toc-item-num\">5&nbsp;&nbsp;</span>Results so far</a></span></li><li><span><a href=\"#Most-expensive-states\" data-toc-modified-id=\"Most-expensive-states-6\"><span class=\"toc-item-num\">6&nbsp;&nbsp;</span>Most expensive states</a></span><ul class=\"toc-item\"><li><span><a href=\"#Mean-overall-cost-by-State\" data-toc-modified-id=\"Mean-overall-cost-by-State-6.1\"><span class=\"toc-item-num\">6.1&nbsp;&nbsp;</span>Mean overall cost by State</a></span></li></ul></li><li><span><a href=\"#10-Most-expensive-cities-and-which-state-they-are-in\" data-toc-modified-id=\"10-Most-expensive-cities-and-which-state-they-are-in-7\"><span class=\"toc-item-num\">7&nbsp;&nbsp;</span>10 Most expensive cities and which state they are in</a></span></li><li><span><a href=\"#Cheapest-cities\" data-toc-modified-id=\"Cheapest-cities-8\"><span class=\"toc-item-num\">8&nbsp;&nbsp;</span>Cheapest cities</a></span></li></ul></div>"
   ]
  },
  {
   "cell_type": "code",
   "execution_count": 1,
   "metadata": {},
   "outputs": [],
   "source": [
    "import pandas as pd\n",
    "import matplotlib.pyplot as plt\n",
    "import seaborn as sns"
   ]
  },
  {
   "cell_type": "markdown",
   "metadata": {},
   "source": [
    "# Price of Healthcare across America"
   ]
  },
  {
   "cell_type": "markdown",
   "metadata": {},
   "source": [
    "## The data"
   ]
  },
  {
   "cell_type": "markdown",
   "metadata": {},
   "source": [
    "This data is from the United States Health and Human Services Department. It contains over 160,000 records of hospital admissions across America.\n",
    "\n",
    "Each time a person is admitted their reason for admission is categorised, and each also has an associated cost that is included in the record. The dataset has these admission categories and costs aggregated across around 3,000 different hospitals.\n",
    "\n",
    "This project will use these admission data to investigate the cost of healthcare across the USA.\n",
    "\n",
    "* First, comparing two reasons for admission that are less likely to require specialist care (i.e. they are relatively common throughout the US)\n",
    "* Then comparing the price of two other reasons for admission that may require more specialist treatment\n",
    "* Then aggregating across all states for all hostpital admissions to find the overall price of healthcare across the US using this sample data."
   ]
  },
  {
   "cell_type": "code",
   "execution_count": 2,
   "metadata": {},
   "outputs": [],
   "source": [
    "healthcare = pd.read_csv('healthcare.csv')"
   ]
  },
  {
   "cell_type": "code",
   "execution_count": 3,
   "metadata": {},
   "outputs": [
    {
     "data": {
      "text/html": [
       "<div>\n",
       "<style scoped>\n",
       "    .dataframe tbody tr th:only-of-type {\n",
       "        vertical-align: middle;\n",
       "    }\n",
       "\n",
       "    .dataframe tbody tr th {\n",
       "        vertical-align: top;\n",
       "    }\n",
       "\n",
       "    .dataframe thead th {\n",
       "        text-align: right;\n",
       "    }\n",
       "</style>\n",
       "<table border=\"1\" class=\"dataframe\">\n",
       "  <thead>\n",
       "    <tr style=\"text-align: right;\">\n",
       "      <th></th>\n",
       "      <th>DRG Definition</th>\n",
       "      <th>Provider Id</th>\n",
       "      <th>Provider Name</th>\n",
       "      <th>Provider Street Address</th>\n",
       "      <th>Provider City</th>\n",
       "      <th>Provider State</th>\n",
       "      <th>Provider Zip Code</th>\n",
       "      <th>Hospital Referral Region Description</th>\n",
       "      <th>Total Discharges</th>\n",
       "      <th>Average Covered Charges</th>\n",
       "      <th>Average Total Payments</th>\n",
       "      <th>Average Medicare Payments</th>\n",
       "    </tr>\n",
       "  </thead>\n",
       "  <tbody>\n",
       "    <tr>\n",
       "      <th>0</th>\n",
       "      <td>039 - EXTRACRANIAL PROCEDURES W/O CC/MCC</td>\n",
       "      <td>10001</td>\n",
       "      <td>SOUTHEAST ALABAMA MEDICAL CENTER</td>\n",
       "      <td>1108 ROSS CLARK CIRCLE</td>\n",
       "      <td>DOTHAN</td>\n",
       "      <td>AL</td>\n",
       "      <td>36301</td>\n",
       "      <td>AL - Dothan</td>\n",
       "      <td>91</td>\n",
       "      <td>32963.07</td>\n",
       "      <td>5777.24</td>\n",
       "      <td>4763.73</td>\n",
       "    </tr>\n",
       "    <tr>\n",
       "      <th>1</th>\n",
       "      <td>039 - EXTRACRANIAL PROCEDURES W/O CC/MCC</td>\n",
       "      <td>10005</td>\n",
       "      <td>MARSHALL MEDICAL CENTER SOUTH</td>\n",
       "      <td>2505 U S HIGHWAY 431 NORTH</td>\n",
       "      <td>BOAZ</td>\n",
       "      <td>AL</td>\n",
       "      <td>35957</td>\n",
       "      <td>AL - Birmingham</td>\n",
       "      <td>14</td>\n",
       "      <td>15131.85</td>\n",
       "      <td>5787.57</td>\n",
       "      <td>4976.71</td>\n",
       "    </tr>\n",
       "    <tr>\n",
       "      <th>2</th>\n",
       "      <td>039 - EXTRACRANIAL PROCEDURES W/O CC/MCC</td>\n",
       "      <td>10006</td>\n",
       "      <td>ELIZA COFFEE MEMORIAL HOSPITAL</td>\n",
       "      <td>205 MARENGO STREET</td>\n",
       "      <td>FLORENCE</td>\n",
       "      <td>AL</td>\n",
       "      <td>35631</td>\n",
       "      <td>AL - Birmingham</td>\n",
       "      <td>24</td>\n",
       "      <td>37560.37</td>\n",
       "      <td>5434.95</td>\n",
       "      <td>4453.79</td>\n",
       "    </tr>\n",
       "    <tr>\n",
       "      <th>3</th>\n",
       "      <td>039 - EXTRACRANIAL PROCEDURES W/O CC/MCC</td>\n",
       "      <td>10011</td>\n",
       "      <td>ST VINCENT'S EAST</td>\n",
       "      <td>50 MEDICAL PARK EAST DRIVE</td>\n",
       "      <td>BIRMINGHAM</td>\n",
       "      <td>AL</td>\n",
       "      <td>35235</td>\n",
       "      <td>AL - Birmingham</td>\n",
       "      <td>25</td>\n",
       "      <td>13998.28</td>\n",
       "      <td>5417.56</td>\n",
       "      <td>4129.16</td>\n",
       "    </tr>\n",
       "    <tr>\n",
       "      <th>4</th>\n",
       "      <td>039 - EXTRACRANIAL PROCEDURES W/O CC/MCC</td>\n",
       "      <td>10016</td>\n",
       "      <td>SHELBY BAPTIST MEDICAL CENTER</td>\n",
       "      <td>1000 FIRST STREET NORTH</td>\n",
       "      <td>ALABASTER</td>\n",
       "      <td>AL</td>\n",
       "      <td>35007</td>\n",
       "      <td>AL - Birmingham</td>\n",
       "      <td>18</td>\n",
       "      <td>31633.27</td>\n",
       "      <td>5658.33</td>\n",
       "      <td>4851.44</td>\n",
       "    </tr>\n",
       "  </tbody>\n",
       "</table>\n",
       "</div>"
      ],
      "text/plain": [
       "                             DRG Definition  Provider Id  \\\n",
       "0  039 - EXTRACRANIAL PROCEDURES W/O CC/MCC        10001   \n",
       "1  039 - EXTRACRANIAL PROCEDURES W/O CC/MCC        10005   \n",
       "2  039 - EXTRACRANIAL PROCEDURES W/O CC/MCC        10006   \n",
       "3  039 - EXTRACRANIAL PROCEDURES W/O CC/MCC        10011   \n",
       "4  039 - EXTRACRANIAL PROCEDURES W/O CC/MCC        10016   \n",
       "\n",
       "                      Provider Name     Provider Street Address Provider City  \\\n",
       "0  SOUTHEAST ALABAMA MEDICAL CENTER      1108 ROSS CLARK CIRCLE        DOTHAN   \n",
       "1     MARSHALL MEDICAL CENTER SOUTH  2505 U S HIGHWAY 431 NORTH          BOAZ   \n",
       "2    ELIZA COFFEE MEMORIAL HOSPITAL          205 MARENGO STREET      FLORENCE   \n",
       "3                 ST VINCENT'S EAST  50 MEDICAL PARK EAST DRIVE    BIRMINGHAM   \n",
       "4     SHELBY BAPTIST MEDICAL CENTER     1000 FIRST STREET NORTH     ALABASTER   \n",
       "\n",
       "  Provider State  Provider Zip Code Hospital Referral Region Description  \\\n",
       "0             AL              36301                          AL - Dothan   \n",
       "1             AL              35957                      AL - Birmingham   \n",
       "2             AL              35631                      AL - Birmingham   \n",
       "3             AL              35235                      AL - Birmingham   \n",
       "4             AL              35007                      AL - Birmingham   \n",
       "\n",
       "    Total Discharges    Average Covered Charges    Average Total Payments   \\\n",
       "0                  91                   32963.07                   5777.24   \n",
       "1                  14                   15131.85                   5787.57   \n",
       "2                  24                   37560.37                   5434.95   \n",
       "3                  25                   13998.28                   5417.56   \n",
       "4                  18                   31633.27                   5658.33   \n",
       "\n",
       "   Average Medicare Payments  \n",
       "0                    4763.73  \n",
       "1                    4976.71  \n",
       "2                    4453.79  \n",
       "3                    4129.16  \n",
       "4                    4851.44  "
      ]
     },
     "execution_count": 3,
     "metadata": {},
     "output_type": "execute_result"
    }
   ],
   "source": [
    "healthcare.head()"
   ]
  },
  {
   "cell_type": "code",
   "execution_count": 4,
   "metadata": {},
   "outputs": [
    {
     "data": {
      "text/plain": [
       "(163065, 12)"
      ]
     },
     "execution_count": 4,
     "metadata": {},
     "output_type": "execute_result"
    }
   ],
   "source": [
    "healthcare.shape"
   ]
  },
  {
   "cell_type": "code",
   "execution_count": 5,
   "metadata": {},
   "outputs": [
    {
     "data": {
      "text/plain": [
       "3201"
      ]
     },
     "execution_count": 5,
     "metadata": {},
     "output_type": "execute_result"
    }
   ],
   "source": [
    "# the number of hospitals in the dataset\n",
    "healthcare['Provider Name'].nunique()"
   ]
  },
  {
   "cell_type": "markdown",
   "metadata": {},
   "source": [
    "# The reason for admission"
   ]
  },
  {
   "cell_type": "markdown",
   "metadata": {},
   "source": [
    "Each admission is categorised according to why the person was admitted to hospital. We need to find a full list of all admission categories and their code in order to carry out the investigation.\n",
    "\n",
    "The column `DRG Definition` contains the reason for admission."
   ]
  },
  {
   "cell_type": "code",
   "execution_count": 6,
   "metadata": {},
   "outputs": [
    {
     "data": {
      "text/plain": [
       "array(['039 - EXTRACRANIAL PROCEDURES W/O CC/MCC',\n",
       "       '057 - DEGENERATIVE NERVOUS SYSTEM DISORDERS W/O MCC',\n",
       "       '069 - TRANSIENT ISCHEMIA',\n",
       "       '064 - INTRACRANIAL HEMORRHAGE OR CEREBRAL INFARCTION W MCC',\n",
       "       '065 - INTRACRANIAL HEMORRHAGE OR CEREBRAL INFARCTION W CC',\n",
       "       '066 - INTRACRANIAL HEMORRHAGE OR CEREBRAL INFARCTION W/O CC/MCC',\n",
       "       '074 - CRANIAL & PERIPHERAL NERVE DISORDERS W/O MCC',\n",
       "       '101 - SEIZURES W/O MCC', '149 - DYSEQUILIBRIUM',\n",
       "       '176 - PULMONARY EMBOLISM W/O MCC',\n",
       "       '177 - RESPIRATORY INFECTIONS & INFLAMMATIONS W MCC',\n",
       "       '189 - PULMONARY EDEMA & RESPIRATORY FAILURE',\n",
       "       '178 - RESPIRATORY INFECTIONS & INFLAMMATIONS W CC',\n",
       "       '190 - CHRONIC OBSTRUCTIVE PULMONARY DISEASE W MCC',\n",
       "       '191 - CHRONIC OBSTRUCTIVE PULMONARY DISEASE W CC',\n",
       "       '193 - SIMPLE PNEUMONIA & PLEURISY W MCC',\n",
       "       '194 - SIMPLE PNEUMONIA & PLEURISY W CC',\n",
       "       '192 - CHRONIC OBSTRUCTIVE PULMONARY DISEASE W/O CC/MCC',\n",
       "       '195 - SIMPLE PNEUMONIA & PLEURISY W/O CC/MCC',\n",
       "       '202 - BRONCHITIS & ASTHMA W CC/MCC',\n",
       "       '203 - BRONCHITIS & ASTHMA W/O CC/MCC',\n",
       "       '207 - RESPIRATORY SYSTEM DIAGNOSIS W VENTILATOR SUPPORT 96+ HOURS',\n",
       "       '238 - MAJOR CARDIOVASC PROCEDURES W/O MCC',\n",
       "       '252 - OTHER VASCULAR PROCEDURES W MCC',\n",
       "       '253 - OTHER VASCULAR PROCEDURES W CC',\n",
       "       '208 - RESPIRATORY SYSTEM DIAGNOSIS W VENTILATOR SUPPORT <96 HOURS',\n",
       "       '254 - OTHER VASCULAR PROCEDURES W/O CC/MCC',\n",
       "       '291 - HEART FAILURE & SHOCK W MCC',\n",
       "       '243 - PERMANENT CARDIAC PACEMAKER IMPLANT W CC',\n",
       "       '244 - PERMANENT CARDIAC PACEMAKER IMPLANT W/O CC/MCC',\n",
       "       '246 - PERC CARDIOVASC PROC W DRUG-ELUTING STENT W MCC OR 4+ VESSELS/STENTS',\n",
       "       '247 - PERC CARDIOVASC PROC W DRUG-ELUTING STENT W/O MCC',\n",
       "       '249 - PERC CARDIOVASC PROC W NON-DRUG-ELUTING STENT W/O MCC',\n",
       "       '251 - PERC CARDIOVASC PROC W/O CORONARY ARTERY STENT W/O MCC',\n",
       "       '280 - ACUTE MYOCARDIAL INFARCTION, DISCHARGED ALIVE W MCC',\n",
       "       '292 - HEART FAILURE & SHOCK W CC',\n",
       "       '281 - ACUTE MYOCARDIAL INFARCTION, DISCHARGED ALIVE W CC',\n",
       "       '282 - ACUTE MYOCARDIAL INFARCTION, DISCHARGED ALIVE W/O CC/MCC',\n",
       "       '286 - CIRCULATORY DISORDERS EXCEPT AMI, W CARD CATH W MCC',\n",
       "       '287 - CIRCULATORY DISORDERS EXCEPT AMI, W CARD CATH W/O MCC',\n",
       "       '293 - HEART FAILURE & SHOCK W/O CC/MCC',\n",
       "       '300 - PERIPHERAL VASCULAR DISORDERS W CC',\n",
       "       '301 - PERIPHERAL VASCULAR DISORDERS W/O CC/MCC',\n",
       "       '303 - ATHEROSCLEROSIS W/O MCC', '305 - HYPERTENSION W/O MCC',\n",
       "       '308 - CARDIAC ARRHYTHMIA & CONDUCTION DISORDERS W MCC',\n",
       "       '312 - SYNCOPE & COLLAPSE',\n",
       "       '309 - CARDIAC ARRHYTHMIA & CONDUCTION DISORDERS W CC',\n",
       "       '310 - CARDIAC ARRHYTHMIA & CONDUCTION DISORDERS W/O CC/MCC',\n",
       "       '313 - CHEST PAIN',\n",
       "       '314 - OTHER CIRCULATORY SYSTEM DIAGNOSES W MCC',\n",
       "       '315 - OTHER CIRCULATORY SYSTEM DIAGNOSES W CC',\n",
       "       '330 - MAJOR SMALL & LARGE BOWEL PROCEDURES W CC',\n",
       "       '377 - G.I. HEMORRHAGE W MCC',\n",
       "       '329 - MAJOR SMALL & LARGE BOWEL PROCEDURES W MCC',\n",
       "       '372 - MAJOR GASTROINTESTINAL DISORDERS & PERITONEAL INFECTIONS W CC',\n",
       "       '378 - G.I. HEMORRHAGE W CC', '379 - G.I. HEMORRHAGE W/O CC/MCC',\n",
       "       '389 - G.I. OBSTRUCTION W CC', '390 - G.I. OBSTRUCTION W/O CC/MCC',\n",
       "       '391 - ESOPHAGITIS, GASTROENT & MISC DIGEST DISORDERS W MCC',\n",
       "       '394 - OTHER DIGESTIVE SYSTEM DIAGNOSES W CC',\n",
       "       '439 - DISORDERS OF PANCREAS EXCEPT MALIGNANCY W CC',\n",
       "       '392 - ESOPHAGITIS, GASTROENT & MISC DIGEST DISORDERS W/O MCC',\n",
       "       '460 - SPINAL FUSION EXCEPT CERVICAL W/O MCC',\n",
       "       '473 - CERVICAL SPINAL FUSION W/O CC/MCC',\n",
       "       '418 - LAPAROSCOPIC CHOLECYSTECTOMY W/O C.D.E. W CC',\n",
       "       '419 - LAPAROSCOPIC CHOLECYSTECTOMY W/O C.D.E. W/O CC/MCC',\n",
       "       '469 - MAJOR JOINT REPLACEMENT OR REATTACHMENT OF LOWER EXTREMITY W MCC',\n",
       "       '470 - MAJOR JOINT REPLACEMENT OR REATTACHMENT OF LOWER EXTREMITY W/O MCC',\n",
       "       '480 - HIP & FEMUR PROCEDURES EXCEPT MAJOR JOINT W MCC',\n",
       "       '481 - HIP & FEMUR PROCEDURES EXCEPT MAJOR JOINT W CC',\n",
       "       '536 - FRACTURES OF HIP & PELVIS W/O MCC',\n",
       "       '482 - HIP & FEMUR PROCEDURES EXCEPT MAJOR JOINT W/O CC/MCC',\n",
       "       '552 - MEDICAL BACK PROBLEMS W/O MCC',\n",
       "       '491 - BACK & NECK PROC EXC SPINAL FUSION W/O CC/MCC',\n",
       "       '563 - FX, SPRN, STRN & DISL EXCEPT FEMUR, HIP, PELVIS & THIGH W/O MCC',\n",
       "       '602 - CELLULITIS W MCC', '603 - CELLULITIS W/O MCC',\n",
       "       '638 - DIABETES W CC',\n",
       "       '640 - MISC DISORDERS OF NUTRITION,METABOLISM,FLUIDS/ELECTROLYTES W MCC',\n",
       "       '682 - RENAL FAILURE W MCC',\n",
       "       '641 - MISC DISORDERS OF NUTRITION,METABOLISM,FLUIDS/ELECTROLYTES W/O MCC',\n",
       "       '683 - RENAL FAILURE W CC', '684 - RENAL FAILURE W/O CC/MCC',\n",
       "       '689 - KIDNEY & URINARY TRACT INFECTIONS W MCC',\n",
       "       '690 - KIDNEY & URINARY TRACT INFECTIONS W/O MCC',\n",
       "       '811 - RED BLOOD CELL DISORDERS W MCC',\n",
       "       '698 - OTHER KIDNEY & URINARY TRACT DIAGNOSES W MCC',\n",
       "       '699 - OTHER KIDNEY & URINARY TRACT DIAGNOSES W CC',\n",
       "       '812 - RED BLOOD CELL DISORDERS W/O MCC',\n",
       "       '853 - INFECTIOUS & PARASITIC DISEASES W O.R. PROCEDURE W MCC',\n",
       "       '885 - PSYCHOSES',\n",
       "       '870 - SEPTICEMIA OR SEVERE SEPSIS W MV 96+ HOURS',\n",
       "       '871 - SEPTICEMIA OR SEVERE SEPSIS W/O MV 96+ HOURS W MCC',\n",
       "       '872 - SEPTICEMIA OR SEVERE SEPSIS W/O MV 96+ HOURS W/O MCC',\n",
       "       '897 - ALCOHOL/DRUG ABUSE OR DEPENDENCE W/O REHABILITATION THERAPY W/O MCC',\n",
       "       '948 - SIGNS & SYMPTOMS W/O MCC',\n",
       "       '917 - POISONING & TOXIC EFFECTS OF DRUGS W MCC',\n",
       "       '918 - POISONING & TOXIC EFFECTS OF DRUGS W/O MCC'], dtype=object)"
      ]
     },
     "execution_count": 6,
     "metadata": {},
     "output_type": "execute_result"
    }
   ],
   "source": [
    "healthcare['DRG Definition'].unique()"
   ]
  },
  {
   "cell_type": "markdown",
   "metadata": {},
   "source": [
    "# Non-Specialist Admission"
   ]
  },
  {
   "cell_type": "markdown",
   "metadata": {},
   "source": [
    "## Price of admission for chest pain"
   ]
  },
  {
   "cell_type": "markdown",
   "metadata": {},
   "source": [
    "As chest pain is something that will be a reason for admission across all hospitals (i.e. it is not only specialised hospitals that deal with chest pain admissions) then it is sensible to start by comparing the cost across the US for this."
   ]
  },
  {
   "cell_type": "code",
   "execution_count": 7,
   "metadata": {},
   "outputs": [],
   "source": [
    "# create a new DataFrame that only includes admissions for chest pain\n",
    "chest_pain = healthcare[healthcare['DRG Definition'] == '313 - CHEST PAIN']"
   ]
  },
  {
   "cell_type": "markdown",
   "metadata": {},
   "source": [
    "### Having a look at New York only first"
   ]
  },
  {
   "cell_type": "markdown",
   "metadata": {},
   "source": [
    "The choice to look at New York is somewhat arbitrary, however it will serve to show a close-up of the range of costs for a state."
   ]
  },
  {
   "cell_type": "code",
   "execution_count": 8,
   "metadata": {},
   "outputs": [],
   "source": [
    "ny_chest_pain = chest_pain[chest_pain['Provider State'] == 'NY']"
   ]
  },
  {
   "cell_type": "code",
   "execution_count": 9,
   "metadata": {},
   "outputs": [],
   "source": [
    "ny_costs = ny_chest_pain[' Average Covered Charges '].values"
   ]
  },
  {
   "cell_type": "code",
   "execution_count": 10,
   "metadata": {},
   "outputs": [
    {
     "data": {
      "image/png": "[encoded data removed]",
      "text/plain": [
       "<Figure size 432x288 with 1 Axes>"
      ]
     },
     "metadata": {
      "needs_background": "light"
     },
     "output_type": "display_data"
    }
   ],
   "source": [
    "sns.boxplot(x=ny_costs).set_title('Price range for price of chest pain admission in New York State')\n",
    "plt.xlabel('Price in USD')\n",
    "plt.show()"
   ]
  },
  {
   "cell_type": "markdown",
   "metadata": {},
   "source": [
    "### Exploring the whole `chest_pain` DataFrame"
   ]
  },
  {
   "cell_type": "code",
   "execution_count": 11,
   "metadata": {},
   "outputs": [
    {
     "data": {
      "text/html": [
       "<div>\n",
       "<style scoped>\n",
       "    .dataframe tbody tr th:only-of-type {\n",
       "        vertical-align: middle;\n",
       "    }\n",
       "\n",
       "    .dataframe tbody tr th {\n",
       "        vertical-align: top;\n",
       "    }\n",
       "\n",
       "    .dataframe thead th {\n",
       "        text-align: right;\n",
       "    }\n",
       "</style>\n",
       "<table border=\"1\" class=\"dataframe\">\n",
       "  <thead>\n",
       "    <tr style=\"text-align: right;\">\n",
       "      <th></th>\n",
       "      <th>DRG Definition</th>\n",
       "      <th>Provider Id</th>\n",
       "      <th>Provider Name</th>\n",
       "      <th>Provider Street Address</th>\n",
       "      <th>Provider City</th>\n",
       "      <th>Provider State</th>\n",
       "      <th>Provider Zip Code</th>\n",
       "      <th>Hospital Referral Region Description</th>\n",
       "      <th>Total Discharges</th>\n",
       "      <th>Average Covered Charges</th>\n",
       "      <th>Average Total Payments</th>\n",
       "      <th>Average Medicare Payments</th>\n",
       "    </tr>\n",
       "  </thead>\n",
       "  <tbody>\n",
       "    <tr>\n",
       "      <th>80531</th>\n",
       "      <td>313 - CHEST PAIN</td>\n",
       "      <td>220108</td>\n",
       "      <td>MILTON HOSPITAL INC</td>\n",
       "      <td>199 REEDSDALE ROAD</td>\n",
       "      <td>MILTON</td>\n",
       "      <td>MA</td>\n",
       "      <td>2186</td>\n",
       "      <td>MA - Boston</td>\n",
       "      <td>43</td>\n",
       "      <td>6760.53</td>\n",
       "      <td>3547.00</td>\n",
       "      <td>2633.04</td>\n",
       "    </tr>\n",
       "    <tr>\n",
       "      <th>82205</th>\n",
       "      <td>313 - CHEST PAIN</td>\n",
       "      <td>10001</td>\n",
       "      <td>SOUTHEAST ALABAMA MEDICAL CENTER</td>\n",
       "      <td>1108 ROSS CLARK CIRCLE</td>\n",
       "      <td>DOTHAN</td>\n",
       "      <td>AL</td>\n",
       "      <td>36301</td>\n",
       "      <td>AL - Dothan</td>\n",
       "      <td>36</td>\n",
       "      <td>19540.55</td>\n",
       "      <td>3428.58</td>\n",
       "      <td>2093.38</td>\n",
       "    </tr>\n",
       "    <tr>\n",
       "      <th>82206</th>\n",
       "      <td>313 - CHEST PAIN</td>\n",
       "      <td>10006</td>\n",
       "      <td>ELIZA COFFEE MEMORIAL HOSPITAL</td>\n",
       "      <td>205 MARENGO STREET</td>\n",
       "      <td>FLORENCE</td>\n",
       "      <td>AL</td>\n",
       "      <td>35631</td>\n",
       "      <td>AL - Birmingham</td>\n",
       "      <td>13</td>\n",
       "      <td>20241.84</td>\n",
       "      <td>3849.76</td>\n",
       "      <td>1704.53</td>\n",
       "    </tr>\n",
       "    <tr>\n",
       "      <th>82207</th>\n",
       "      <td>313 - CHEST PAIN</td>\n",
       "      <td>10007</td>\n",
       "      <td>MIZELL MEMORIAL HOSPITAL</td>\n",
       "      <td>702 N MAIN ST</td>\n",
       "      <td>OPP</td>\n",
       "      <td>AL</td>\n",
       "      <td>36467</td>\n",
       "      <td>AL - Dothan</td>\n",
       "      <td>34</td>\n",
       "      <td>6417.20</td>\n",
       "      <td>2808.08</td>\n",
       "      <td>1872.38</td>\n",
       "    </tr>\n",
       "    <tr>\n",
       "      <th>82208</th>\n",
       "      <td>313 - CHEST PAIN</td>\n",
       "      <td>10011</td>\n",
       "      <td>ST VINCENT'S EAST</td>\n",
       "      <td>50 MEDICAL PARK EAST DRIVE</td>\n",
       "      <td>BIRMINGHAM</td>\n",
       "      <td>AL</td>\n",
       "      <td>35235</td>\n",
       "      <td>AL - Birmingham</td>\n",
       "      <td>33</td>\n",
       "      <td>13311.78</td>\n",
       "      <td>2997.00</td>\n",
       "      <td>2113.84</td>\n",
       "    </tr>\n",
       "  </tbody>\n",
       "</table>\n",
       "</div>"
      ],
      "text/plain": [
       "         DRG Definition  Provider Id                     Provider Name  \\\n",
       "80531  313 - CHEST PAIN       220108               MILTON HOSPITAL INC   \n",
       "82205  313 - CHEST PAIN        10001  SOUTHEAST ALABAMA MEDICAL CENTER   \n",
       "82206  313 - CHEST PAIN        10006    ELIZA COFFEE MEMORIAL HOSPITAL   \n",
       "82207  313 - CHEST PAIN        10007          MIZELL MEMORIAL HOSPITAL   \n",
       "82208  313 - CHEST PAIN        10011                 ST VINCENT'S EAST   \n",
       "\n",
       "          Provider Street Address Provider City Provider State  \\\n",
       "80531          199 REEDSDALE ROAD        MILTON             MA   \n",
       "82205      1108 ROSS CLARK CIRCLE        DOTHAN             AL   \n",
       "82206          205 MARENGO STREET      FLORENCE             AL   \n",
       "82207               702 N MAIN ST           OPP             AL   \n",
       "82208  50 MEDICAL PARK EAST DRIVE    BIRMINGHAM             AL   \n",
       "\n",
       "       Provider Zip Code Hospital Referral Region Description  \\\n",
       "80531               2186                          MA - Boston   \n",
       "82205              36301                          AL - Dothan   \n",
       "82206              35631                      AL - Birmingham   \n",
       "82207              36467                          AL - Dothan   \n",
       "82208              35235                      AL - Birmingham   \n",
       "\n",
       "        Total Discharges    Average Covered Charges   \\\n",
       "80531                  43                    6760.53   \n",
       "82205                  36                   19540.55   \n",
       "82206                  13                   20241.84   \n",
       "82207                  34                    6417.20   \n",
       "82208                  33                   13311.78   \n",
       "\n",
       "        Average Total Payments   Average Medicare Payments  \n",
       "80531                   3547.00                    2633.04  \n",
       "82205                   3428.58                    2093.38  \n",
       "82206                   3849.76                    1704.53  \n",
       "82207                   2808.08                    1872.38  \n",
       "82208                   2997.00                    2113.84  "
      ]
     },
     "execution_count": 11,
     "metadata": {},
     "output_type": "execute_result"
    }
   ],
   "source": [
    "chest_pain.head()"
   ]
  },
  {
   "cell_type": "code",
   "execution_count": 12,
   "metadata": {},
   "outputs": [],
   "source": [
    "states = chest_pain['Provider State'].unique()"
   ]
  },
  {
   "cell_type": "code",
   "execution_count": 13,
   "metadata": {},
   "outputs": [
    {
     "data": {
      "text/plain": [
       "(array(['MA', 'AL', 'AK', 'AZ', 'AR', 'CA', 'CO', 'CT', 'DE', 'DC', 'FL',\n",
       "        'GA', 'HI', 'ID', 'IL', 'IN', 'IA', 'KS', 'KY', 'LA', 'ME', 'MD',\n",
       "        'MI', 'MN', 'MS', 'MO', 'MT', 'NE', 'NV', 'NH', 'NJ', 'NM', 'NY',\n",
       "        'NC', 'ND', 'OH', 'OK', 'OR', 'PA', 'RI', 'SC', 'SD', 'TN', 'TX',\n",
       "        'UT', 'VT', 'VA', 'WA', 'WV', 'WI', 'WY'], dtype=object),\n",
       " 51)"
      ]
     },
     "execution_count": 13,
     "metadata": {},
     "output_type": "execute_result"
    }
   ],
   "source": [
    "states, len(states)"
   ]
  },
  {
   "cell_type": "markdown",
   "metadata": {},
   "source": [
    "### Selecting out the data for all states individually"
   ]
  },
  {
   "cell_type": "code",
   "execution_count": 14,
   "metadata": {},
   "outputs": [],
   "source": [
    "heart_datasets = []\n",
    "\n",
    "for state in states:\n",
    "    heart_datasets.append(chest_pain[chest_pain['Provider State'] == state][' Average Covered Charges '].values)"
   ]
  },
  {
   "cell_type": "markdown",
   "metadata": {},
   "source": [
    "### Boxplot of cost across all states"
   ]
  },
  {
   "cell_type": "code",
   "execution_count": 15,
   "metadata": {},
   "outputs": [
    {
     "data": {
      "image/png": "[encoded data removed]",
      "text/plain": [
       "<Figure size 1152x576 with 1 Axes>"
      ]
     },
     "metadata": {
      "needs_background": "light"
     },
     "output_type": "display_data"
    }
   ],
   "source": [
    "plt.figure(figsize=(16, 8))\n",
    "\n",
    "sns.set(style='darkgrid')\n",
    "\n",
    "plt.boxplot(heart_datasets, labels=states)\n",
    "plt.xlabel('State', fontsize=12)\n",
    "plt.ylabel('Price range', fontsize=12)\n",
    "plt.title('Price of chest pain admission across different states', fontsize=14)\n",
    "plt.show()"
   ]
  },
  {
   "cell_type": "markdown",
   "metadata": {},
   "source": [
    "## Alcohol & drug abuse admissions"
   ]
  },
  {
   "cell_type": "markdown",
   "metadata": {},
   "source": [
    "`'897 - ALCOHOL/DRUG ABUSE OR DEPENDENCE W/O REHABILITATION THERAPY W/O MCC'`.\n",
    "\n",
    "This is another reason for hospital admission that is less likely to require specialist treatment and so be useful to compare across states."
   ]
  },
  {
   "cell_type": "code",
   "execution_count": 17,
   "metadata": {},
   "outputs": [],
   "source": [
    "alc_drugs = healthcare[healthcare['DRG Definition']== '897 - ALCOHOL/DRUG ABUSE OR DEPENDENCE W/O REHABILITATION THERAPY W/O MCC']"
   ]
  },
  {
   "cell_type": "code",
   "execution_count": 18,
   "metadata": {},
   "outputs": [
    {
     "data": {
      "text/html": [
       "<div>\n",
       "<style scoped>\n",
       "    .dataframe tbody tr th:only-of-type {\n",
       "        vertical-align: middle;\n",
       "    }\n",
       "\n",
       "    .dataframe tbody tr th {\n",
       "        vertical-align: top;\n",
       "    }\n",
       "\n",
       "    .dataframe thead th {\n",
       "        text-align: right;\n",
       "    }\n",
       "</style>\n",
       "<table border=\"1\" class=\"dataframe\">\n",
       "  <thead>\n",
       "    <tr style=\"text-align: right;\">\n",
       "      <th></th>\n",
       "      <th>DRG Definition</th>\n",
       "      <th>Provider Id</th>\n",
       "      <th>Provider Name</th>\n",
       "      <th>Provider Street Address</th>\n",
       "      <th>Provider City</th>\n",
       "      <th>Provider State</th>\n",
       "      <th>Provider Zip Code</th>\n",
       "      <th>Hospital Referral Region Description</th>\n",
       "      <th>Total Discharges</th>\n",
       "      <th>Average Covered Charges</th>\n",
       "      <th>Average Total Payments</th>\n",
       "      <th>Average Medicare Payments</th>\n",
       "    </tr>\n",
       "  </thead>\n",
       "  <tbody>\n",
       "    <tr>\n",
       "      <th>158141</th>\n",
       "      <td>897 - ALCOHOL/DRUG ABUSE OR DEPENDENCE W/O REH...</td>\n",
       "      <td>10001</td>\n",
       "      <td>SOUTHEAST ALABAMA MEDICAL CENTER</td>\n",
       "      <td>1108 ROSS CLARK CIRCLE</td>\n",
       "      <td>DOTHAN</td>\n",
       "      <td>AL</td>\n",
       "      <td>36301</td>\n",
       "      <td>AL - Dothan</td>\n",
       "      <td>47</td>\n",
       "      <td>12254.78</td>\n",
       "      <td>3620.57</td>\n",
       "      <td>2924.82</td>\n",
       "    </tr>\n",
       "    <tr>\n",
       "      <th>158142</th>\n",
       "      <td>897 - ALCOHOL/DRUG ABUSE OR DEPENDENCE W/O REH...</td>\n",
       "      <td>10006</td>\n",
       "      <td>ELIZA COFFEE MEMORIAL HOSPITAL</td>\n",
       "      <td>205 MARENGO STREET</td>\n",
       "      <td>FLORENCE</td>\n",
       "      <td>AL</td>\n",
       "      <td>35631</td>\n",
       "      <td>AL - Birmingham</td>\n",
       "      <td>14</td>\n",
       "      <td>10866.42</td>\n",
       "      <td>3289.78</td>\n",
       "      <td>2492.64</td>\n",
       "    </tr>\n",
       "    <tr>\n",
       "      <th>158143</th>\n",
       "      <td>897 - ALCOHOL/DRUG ABUSE OR DEPENDENCE W/O REH...</td>\n",
       "      <td>10009</td>\n",
       "      <td>HARTSELLE MEDICAL CENTER</td>\n",
       "      <td>201 PINE STREET NORTHWEST</td>\n",
       "      <td>HARTSELLE</td>\n",
       "      <td>AL</td>\n",
       "      <td>35640</td>\n",
       "      <td>AL - Birmingham</td>\n",
       "      <td>42</td>\n",
       "      <td>12409.78</td>\n",
       "      <td>3500.00</td>\n",
       "      <td>2780.66</td>\n",
       "    </tr>\n",
       "    <tr>\n",
       "      <th>158144</th>\n",
       "      <td>897 - ALCOHOL/DRUG ABUSE OR DEPENDENCE W/O REH...</td>\n",
       "      <td>10023</td>\n",
       "      <td>BAPTIST MEDICAL CENTER SOUTH</td>\n",
       "      <td>2105 EAST SOUTH BOULEVARD</td>\n",
       "      <td>MONTGOMERY</td>\n",
       "      <td>AL</td>\n",
       "      <td>36116</td>\n",
       "      <td>AL - Montgomery</td>\n",
       "      <td>14</td>\n",
       "      <td>17288.35</td>\n",
       "      <td>4213.71</td>\n",
       "      <td>3248.00</td>\n",
       "    </tr>\n",
       "    <tr>\n",
       "      <th>158145</th>\n",
       "      <td>897 - ALCOHOL/DRUG ABUSE OR DEPENDENCE W/O REH...</td>\n",
       "      <td>10029</td>\n",
       "      <td>EAST ALABAMA MEDICAL CENTER AND SNF</td>\n",
       "      <td>2000 PEPPERELL PARKWAY</td>\n",
       "      <td>OPELIKA</td>\n",
       "      <td>AL</td>\n",
       "      <td>36801</td>\n",
       "      <td>AL - Birmingham</td>\n",
       "      <td>14</td>\n",
       "      <td>5622.64</td>\n",
       "      <td>3829.64</td>\n",
       "      <td>2808.07</td>\n",
       "    </tr>\n",
       "  </tbody>\n",
       "</table>\n",
       "</div>"
      ],
      "text/plain": [
       "                                           DRG Definition  Provider Id  \\\n",
       "158141  897 - ALCOHOL/DRUG ABUSE OR DEPENDENCE W/O REH...        10001   \n",
       "158142  897 - ALCOHOL/DRUG ABUSE OR DEPENDENCE W/O REH...        10006   \n",
       "158143  897 - ALCOHOL/DRUG ABUSE OR DEPENDENCE W/O REH...        10009   \n",
       "158144  897 - ALCOHOL/DRUG ABUSE OR DEPENDENCE W/O REH...        10023   \n",
       "158145  897 - ALCOHOL/DRUG ABUSE OR DEPENDENCE W/O REH...        10029   \n",
       "\n",
       "                              Provider Name    Provider Street Address  \\\n",
       "158141     SOUTHEAST ALABAMA MEDICAL CENTER     1108 ROSS CLARK CIRCLE   \n",
       "158142       ELIZA COFFEE MEMORIAL HOSPITAL         205 MARENGO STREET   \n",
       "158143             HARTSELLE MEDICAL CENTER  201 PINE STREET NORTHWEST   \n",
       "158144         BAPTIST MEDICAL CENTER SOUTH  2105 EAST SOUTH BOULEVARD   \n",
       "158145  EAST ALABAMA MEDICAL CENTER AND SNF     2000 PEPPERELL PARKWAY   \n",
       "\n",
       "       Provider City Provider State  Provider Zip Code  \\\n",
       "158141        DOTHAN             AL              36301   \n",
       "158142      FLORENCE             AL              35631   \n",
       "158143     HARTSELLE             AL              35640   \n",
       "158144    MONTGOMERY             AL              36116   \n",
       "158145       OPELIKA             AL              36801   \n",
       "\n",
       "       Hospital Referral Region Description   Total Discharges   \\\n",
       "158141                          AL - Dothan                  47   \n",
       "158142                      AL - Birmingham                  14   \n",
       "158143                      AL - Birmingham                  42   \n",
       "158144                      AL - Montgomery                  14   \n",
       "158145                      AL - Birmingham                  14   \n",
       "\n",
       "         Average Covered Charges    Average Total Payments   \\\n",
       "158141                   12254.78                   3620.57   \n",
       "158142                   10866.42                   3289.78   \n",
       "158143                   12409.78                   3500.00   \n",
       "158144                   17288.35                   4213.71   \n",
       "158145                    5622.64                   3829.64   \n",
       "\n",
       "        Average Medicare Payments  \n",
       "158141                    2924.82  \n",
       "158142                    2492.64  \n",
       "158143                    2780.66  \n",
       "158144                    3248.00  \n",
       "158145                    2808.07  "
      ]
     },
     "execution_count": 18,
     "metadata": {},
     "output_type": "execute_result"
    }
   ],
   "source": [
    "alc_drugs.head()"
   ]
  },
  {
   "cell_type": "code",
   "execution_count": 19,
   "metadata": {},
   "outputs": [],
   "source": [
    "ad_datasets = []\n",
    "\n",
    "for state in states:\n",
    "    ad_datasets.append(alc_drugs[alc_drugs['Provider State'] == state][' Average Covered Charges '].values)"
   ]
  },
  {
   "cell_type": "markdown",
   "metadata": {},
   "source": [
    "### Boxplot across all states"
   ]
  },
  {
   "cell_type": "code",
   "execution_count": 20,
   "metadata": {},
   "outputs": [
    {
     "data": {
      "image/png": "[encoded data removed]",
      "text/plain": [
       "<Figure size 1152x576 with 1 Axes>"
      ]
     },
     "metadata": {},
     "output_type": "display_data"
    }
   ],
   "source": [
    "plt.figure(figsize=(16, 8))\n",
    "\n",
    "plt.boxplot(ad_datasets, labels=states)\n",
    "plt.xlabel('State', fontsize=12)\n",
    "plt.ylabel('Price range', fontsize=12)\n",
    "plt.title('Price of alcohol or drugs admission across different states', fontsize=14)\n",
    "plt.show()"
   ]
  },
  {
   "cell_type": "markdown",
   "metadata": {},
   "source": [
    "# Specialist Admission"
   ]
  },
  {
   "cell_type": "markdown",
   "metadata": {},
   "source": [
    "## Joint replacement or limb reattachment"
   ]
  },
  {
   "cell_type": "markdown",
   "metadata": {},
   "source": [
    "`'470 - MAJOR JOINT REPLACEMENT OR REATTACHMENT OF LOWER EXTREMITY W/O MCC'`\n",
    "\n",
    "It is most likely that not every hospital is able to perform this procedure, especially if it is a reattachment procedure. It may be insightful to see if this affects the general shape of the boxplot or if it remains similar to the previous two boxplots."
   ]
  },
  {
   "cell_type": "code",
   "execution_count": 25,
   "metadata": {},
   "outputs": [],
   "source": [
    "joints = healthcare[healthcare['DRG Definition'] == '470 - MAJOR JOINT REPLACEMENT OR REATTACHMENT OF LOWER EXTREMITY W/O MCC']"
   ]
  },
  {
   "cell_type": "code",
   "execution_count": 26,
   "metadata": {},
   "outputs": [
    {
     "data": {
      "text/html": [
       "<div>\n",
       "<style scoped>\n",
       "    .dataframe tbody tr th:only-of-type {\n",
       "        vertical-align: middle;\n",
       "    }\n",
       "\n",
       "    .dataframe tbody tr th {\n",
       "        vertical-align: top;\n",
       "    }\n",
       "\n",
       "    .dataframe thead th {\n",
       "        text-align: right;\n",
       "    }\n",
       "</style>\n",
       "<table border=\"1\" class=\"dataframe\">\n",
       "  <thead>\n",
       "    <tr style=\"text-align: right;\">\n",
       "      <th></th>\n",
       "      <th>DRG Definition</th>\n",
       "      <th>Provider Id</th>\n",
       "      <th>Provider Name</th>\n",
       "      <th>Provider Street Address</th>\n",
       "      <th>Provider City</th>\n",
       "      <th>Provider State</th>\n",
       "      <th>Provider Zip Code</th>\n",
       "      <th>Hospital Referral Region Description</th>\n",
       "      <th>Total Discharges</th>\n",
       "      <th>Average Covered Charges</th>\n",
       "      <th>Average Total Payments</th>\n",
       "      <th>Average Medicare Payments</th>\n",
       "    </tr>\n",
       "  </thead>\n",
       "  <tbody>\n",
       "    <tr>\n",
       "      <th>111268</th>\n",
       "      <td>470 - MAJOR JOINT REPLACEMENT OR REATTACHMENT ...</td>\n",
       "      <td>10001</td>\n",
       "      <td>SOUTHEAST ALABAMA MEDICAL CENTER</td>\n",
       "      <td>1108 ROSS CLARK CIRCLE</td>\n",
       "      <td>DOTHAN</td>\n",
       "      <td>AL</td>\n",
       "      <td>36301</td>\n",
       "      <td>AL - Dothan</td>\n",
       "      <td>226</td>\n",
       "      <td>43444.03</td>\n",
       "      <td>11806.10</td>\n",
       "      <td>10298.39</td>\n",
       "    </tr>\n",
       "    <tr>\n",
       "      <th>111269</th>\n",
       "      <td>470 - MAJOR JOINT REPLACEMENT OR REATTACHMENT ...</td>\n",
       "      <td>10005</td>\n",
       "      <td>MARSHALL MEDICAL CENTER SOUTH</td>\n",
       "      <td>2505 U S HIGHWAY 431 NORTH</td>\n",
       "      <td>BOAZ</td>\n",
       "      <td>AL</td>\n",
       "      <td>35957</td>\n",
       "      <td>AL - Birmingham</td>\n",
       "      <td>64</td>\n",
       "      <td>31340.35</td>\n",
       "      <td>11906.23</td>\n",
       "      <td>10745.39</td>\n",
       "    </tr>\n",
       "    <tr>\n",
       "      <th>111270</th>\n",
       "      <td>470 - MAJOR JOINT REPLACEMENT OR REATTACHMENT ...</td>\n",
       "      <td>10006</td>\n",
       "      <td>ELIZA COFFEE MEMORIAL HOSPITAL</td>\n",
       "      <td>205 MARENGO STREET</td>\n",
       "      <td>FLORENCE</td>\n",
       "      <td>AL</td>\n",
       "      <td>35631</td>\n",
       "      <td>AL - Birmingham</td>\n",
       "      <td>211</td>\n",
       "      <td>48762.16</td>\n",
       "      <td>11198.83</td>\n",
       "      <td>9923.58</td>\n",
       "    </tr>\n",
       "    <tr>\n",
       "      <th>111271</th>\n",
       "      <td>470 - MAJOR JOINT REPLACEMENT OR REATTACHMENT ...</td>\n",
       "      <td>10007</td>\n",
       "      <td>MIZELL MEMORIAL HOSPITAL</td>\n",
       "      <td>702 N MAIN ST</td>\n",
       "      <td>OPP</td>\n",
       "      <td>AL</td>\n",
       "      <td>36467</td>\n",
       "      <td>AL - Dothan</td>\n",
       "      <td>17</td>\n",
       "      <td>41182.94</td>\n",
       "      <td>11275.00</td>\n",
       "      <td>9868.64</td>\n",
       "    </tr>\n",
       "    <tr>\n",
       "      <th>111272</th>\n",
       "      <td>470 - MAJOR JOINT REPLACEMENT OR REATTACHMENT ...</td>\n",
       "      <td>10010</td>\n",
       "      <td>MARSHALL MEDICAL CENTER NORTH</td>\n",
       "      <td>8000 ALABAMA HIGHWAY 69</td>\n",
       "      <td>GUNTERSVILLE</td>\n",
       "      <td>AL</td>\n",
       "      <td>35976</td>\n",
       "      <td>AL - Huntsville</td>\n",
       "      <td>65</td>\n",
       "      <td>35097.00</td>\n",
       "      <td>10516.40</td>\n",
       "      <td>9261.66</td>\n",
       "    </tr>\n",
       "  </tbody>\n",
       "</table>\n",
       "</div>"
      ],
      "text/plain": [
       "                                           DRG Definition  Provider Id  \\\n",
       "111268  470 - MAJOR JOINT REPLACEMENT OR REATTACHMENT ...        10001   \n",
       "111269  470 - MAJOR JOINT REPLACEMENT OR REATTACHMENT ...        10005   \n",
       "111270  470 - MAJOR JOINT REPLACEMENT OR REATTACHMENT ...        10006   \n",
       "111271  470 - MAJOR JOINT REPLACEMENT OR REATTACHMENT ...        10007   \n",
       "111272  470 - MAJOR JOINT REPLACEMENT OR REATTACHMENT ...        10010   \n",
       "\n",
       "                           Provider Name     Provider Street Address  \\\n",
       "111268  SOUTHEAST ALABAMA MEDICAL CENTER      1108 ROSS CLARK CIRCLE   \n",
       "111269     MARSHALL MEDICAL CENTER SOUTH  2505 U S HIGHWAY 431 NORTH   \n",
       "111270    ELIZA COFFEE MEMORIAL HOSPITAL          205 MARENGO STREET   \n",
       "111271          MIZELL MEMORIAL HOSPITAL               702 N MAIN ST   \n",
       "111272     MARSHALL MEDICAL CENTER NORTH     8000 ALABAMA HIGHWAY 69   \n",
       "\n",
       "       Provider City Provider State  Provider Zip Code  \\\n",
       "111268        DOTHAN             AL              36301   \n",
       "111269          BOAZ             AL              35957   \n",
       "111270      FLORENCE             AL              35631   \n",
       "111271           OPP             AL              36467   \n",
       "111272  GUNTERSVILLE             AL              35976   \n",
       "\n",
       "       Hospital Referral Region Description   Total Discharges   \\\n",
       "111268                          AL - Dothan                 226   \n",
       "111269                      AL - Birmingham                  64   \n",
       "111270                      AL - Birmingham                 211   \n",
       "111271                          AL - Dothan                  17   \n",
       "111272                      AL - Huntsville                  65   \n",
       "\n",
       "         Average Covered Charges    Average Total Payments   \\\n",
       "111268                   43444.03                  11806.10   \n",
       "111269                   31340.35                  11906.23   \n",
       "111270                   48762.16                  11198.83   \n",
       "111271                   41182.94                  11275.00   \n",
       "111272                   35097.00                  10516.40   \n",
       "\n",
       "        Average Medicare Payments  \n",
       "111268                   10298.39  \n",
       "111269                   10745.39  \n",
       "111270                    9923.58  \n",
       "111271                    9868.64  \n",
       "111272                    9261.66  "
      ]
     },
     "execution_count": 26,
     "metadata": {},
     "output_type": "execute_result"
    }
   ],
   "source": [
    "joints.head()"
   ]
  },
  {
   "cell_type": "code",
   "execution_count": 27,
   "metadata": {},
   "outputs": [],
   "source": [
    "joints_datasets = []\n",
    "\n",
    "for state in states:\n",
    "    joints_datasets.append(joints[joints['Provider State'] == state][' Average Covered Charges '].values)"
   ]
  },
  {
   "cell_type": "markdown",
   "metadata": {},
   "source": [
    "### Boxplot across all states"
   ]
  },
  {
   "cell_type": "code",
   "execution_count": 28,
   "metadata": {},
   "outputs": [
    {
     "data": {
      "image/png": "[encoded data removed]",
      "text/plain": [
       "<Figure size 1152x576 with 1 Axes>"
      ]
     },
     "metadata": {},
     "output_type": "display_data"
    }
   ],
   "source": [
    "plt.figure(figsize=(16, 8))\n",
    "\n",
    "plt.boxplot(joints_datasets, labels=states)\n",
    "plt.xlabel('State', fontsize=12)\n",
    "plt.ylabel('Price range', fontsize=12)\n",
    "plt.title('Price of joint replacement or lower limb reattachment', fontsize=14)\n",
    "plt.show()"
   ]
  },
  {
   "cell_type": "markdown",
   "metadata": {},
   "source": [
    "## Mental Health Admission"
   ]
  },
  {
   "cell_type": "markdown",
   "metadata": {},
   "source": [
    "`'885 - PSYCHOSES'`\n",
    "\n",
    "It may be insightful to see how the cost of a hospital stay for a mental health admission compares to the other factors examined so far."
   ]
  },
  {
   "cell_type": "code",
   "execution_count": 31,
   "metadata": {},
   "outputs": [],
   "source": [
    "psych = healthcare[healthcare['DRG Definition'] == '885 - PSYCHOSES']"
   ]
  },
  {
   "cell_type": "code",
   "execution_count": 32,
   "metadata": {},
   "outputs": [
    {
     "data": {
      "text/html": [
       "<div>\n",
       "<style scoped>\n",
       "    .dataframe tbody tr th:only-of-type {\n",
       "        vertical-align: middle;\n",
       "    }\n",
       "\n",
       "    .dataframe tbody tr th {\n",
       "        vertical-align: top;\n",
       "    }\n",
       "\n",
       "    .dataframe thead th {\n",
       "        text-align: right;\n",
       "    }\n",
       "</style>\n",
       "<table border=\"1\" class=\"dataframe\">\n",
       "  <thead>\n",
       "    <tr style=\"text-align: right;\">\n",
       "      <th></th>\n",
       "      <th>DRG Definition</th>\n",
       "      <th>Provider Id</th>\n",
       "      <th>Provider Name</th>\n",
       "      <th>Provider Street Address</th>\n",
       "      <th>Provider City</th>\n",
       "      <th>Provider State</th>\n",
       "      <th>Provider Zip Code</th>\n",
       "      <th>Hospital Referral Region Description</th>\n",
       "      <th>Total Discharges</th>\n",
       "      <th>Average Covered Charges</th>\n",
       "      <th>Average Total Payments</th>\n",
       "      <th>Average Medicare Payments</th>\n",
       "    </tr>\n",
       "  </thead>\n",
       "  <tbody>\n",
       "    <tr>\n",
       "      <th>150834</th>\n",
       "      <td>885 - PSYCHOSES</td>\n",
       "      <td>10085</td>\n",
       "      <td>DECATUR GENERAL HOSPITAL</td>\n",
       "      <td>1201 7TH STREET SE</td>\n",
       "      <td>DECATUR</td>\n",
       "      <td>AL</td>\n",
       "      <td>35609</td>\n",
       "      <td>AL - Huntsville</td>\n",
       "      <td>236</td>\n",
       "      <td>9930.83</td>\n",
       "      <td>4986.83</td>\n",
       "      <td>4219.28</td>\n",
       "    </tr>\n",
       "    <tr>\n",
       "      <th>150889</th>\n",
       "      <td>885 - PSYCHOSES</td>\n",
       "      <td>10092</td>\n",
       "      <td>D C H REGIONAL MEDICAL CENTER</td>\n",
       "      <td>809 UNIVERSITY BOULEVARD EAST</td>\n",
       "      <td>TUSCALOOSA</td>\n",
       "      <td>AL</td>\n",
       "      <td>35401</td>\n",
       "      <td>AL - Tuscaloosa</td>\n",
       "      <td>38</td>\n",
       "      <td>18125.89</td>\n",
       "      <td>5505.13</td>\n",
       "      <td>4347.39</td>\n",
       "    </tr>\n",
       "    <tr>\n",
       "      <th>151323</th>\n",
       "      <td>885 - PSYCHOSES</td>\n",
       "      <td>10104</td>\n",
       "      <td>TRINITY MEDICAL CENTER</td>\n",
       "      <td>800 MONTCLAIR RD</td>\n",
       "      <td>BIRMINGHAM</td>\n",
       "      <td>AL</td>\n",
       "      <td>35213</td>\n",
       "      <td>AL - Birmingham</td>\n",
       "      <td>228</td>\n",
       "      <td>35241.60</td>\n",
       "      <td>6163.48</td>\n",
       "      <td>4283.56</td>\n",
       "    </tr>\n",
       "    <tr>\n",
       "      <th>151379</th>\n",
       "      <td>885 - PSYCHOSES</td>\n",
       "      <td>10113</td>\n",
       "      <td>MOBILE INFIRMARY</td>\n",
       "      <td>5 MOBILE INFIRMARY CIRCLE</td>\n",
       "      <td>MOBILE</td>\n",
       "      <td>AL</td>\n",
       "      <td>36652</td>\n",
       "      <td>AL - Mobile</td>\n",
       "      <td>12</td>\n",
       "      <td>15418.16</td>\n",
       "      <td>4855.00</td>\n",
       "      <td>4197.33</td>\n",
       "    </tr>\n",
       "    <tr>\n",
       "      <th>151577</th>\n",
       "      <td>885 - PSYCHOSES</td>\n",
       "      <td>50248</td>\n",
       "      <td>NATIVIDAD MEDICAL CENTER</td>\n",
       "      <td>1441 CONSTITUTION BOULEVARD</td>\n",
       "      <td>SALINAS</td>\n",
       "      <td>CA</td>\n",
       "      <td>93906</td>\n",
       "      <td>CA - Salinas</td>\n",
       "      <td>133</td>\n",
       "      <td>38953.12</td>\n",
       "      <td>12753.27</td>\n",
       "      <td>11872.90</td>\n",
       "    </tr>\n",
       "  </tbody>\n",
       "</table>\n",
       "</div>"
      ],
      "text/plain": [
       "         DRG Definition  Provider Id                  Provider Name  \\\n",
       "150834  885 - PSYCHOSES        10085       DECATUR GENERAL HOSPITAL   \n",
       "150889  885 - PSYCHOSES        10092  D C H REGIONAL MEDICAL CENTER   \n",
       "151323  885 - PSYCHOSES        10104         TRINITY MEDICAL CENTER   \n",
       "151379  885 - PSYCHOSES        10113               MOBILE INFIRMARY   \n",
       "151577  885 - PSYCHOSES        50248       NATIVIDAD MEDICAL CENTER   \n",
       "\n",
       "              Provider Street Address Provider City Provider State  \\\n",
       "150834             1201 7TH STREET SE       DECATUR             AL   \n",
       "150889  809 UNIVERSITY BOULEVARD EAST    TUSCALOOSA             AL   \n",
       "151323               800 MONTCLAIR RD    BIRMINGHAM             AL   \n",
       "151379      5 MOBILE INFIRMARY CIRCLE        MOBILE             AL   \n",
       "151577    1441 CONSTITUTION BOULEVARD       SALINAS             CA   \n",
       "\n",
       "        Provider Zip Code Hospital Referral Region Description  \\\n",
       "150834              35609                      AL - Huntsville   \n",
       "150889              35401                      AL - Tuscaloosa   \n",
       "151323              35213                      AL - Birmingham   \n",
       "151379              36652                          AL - Mobile   \n",
       "151577              93906                         CA - Salinas   \n",
       "\n",
       "         Total Discharges    Average Covered Charges   \\\n",
       "150834                 236                    9930.83   \n",
       "150889                  38                   18125.89   \n",
       "151323                 228                   35241.60   \n",
       "151379                  12                   15418.16   \n",
       "151577                 133                   38953.12   \n",
       "\n",
       "         Average Total Payments   Average Medicare Payments  \n",
       "150834                   4986.83                    4219.28  \n",
       "150889                   5505.13                    4347.39  \n",
       "151323                   6163.48                    4283.56  \n",
       "151379                   4855.00                    4197.33  \n",
       "151577                  12753.27                   11872.90  "
      ]
     },
     "execution_count": 32,
     "metadata": {},
     "output_type": "execute_result"
    }
   ],
   "source": [
    "psych.head()"
   ]
  },
  {
   "cell_type": "code",
   "execution_count": 33,
   "metadata": {},
   "outputs": [],
   "source": [
    "psych_datasets = []\n",
    "\n",
    "for state in states:\n",
    "    psych_datasets.append(psych[psych['Provider State'] == state][' Average Covered Charges '].values)"
   ]
  },
  {
   "cell_type": "markdown",
   "metadata": {},
   "source": [
    "### Boxplot across all states"
   ]
  },
  {
   "cell_type": "code",
   "execution_count": 36,
   "metadata": {},
   "outputs": [
    {
     "data": {
      "image/png": "[encoded data removed]",
      "text/plain": [
       "<Figure size 1152x576 with 1 Axes>"
      ]
     },
     "metadata": {},
     "output_type": "display_data"
    }
   ],
   "source": [
    "plt.figure(figsize=(16, 8))\n",
    "\n",
    "plt.boxplot(psych_datasets, labels=states)\n",
    "plt.xlabel('State', fontsize=12)\n",
    "plt.ylabel('Price range', fontsize=12)\n",
    "plt.title('Price of joint replacement or lower limb reattachment', fontsize=14)\n",
    "plt.show()"
   ]
  },
  {
   "cell_type": "markdown",
   "metadata": {},
   "source": [
    "# Results so far"
   ]
  },
  {
   "cell_type": "markdown",
   "metadata": {},
   "source": [
    "California and New Jersey seem to be the two most expensive states for hospital care in the US. The price ranges also tend to be rather large in comparison to other states, meaning there is likely to be some hospitals that offer high-end expensive care, and others that are cheaper but nonetheless still expensive relative to some other states.\n",
    "\n",
    "Maryland and North Dakota seem to be two of the \"cheapest\" states for healthcare (although data for ND is missing in the last boxplot). What is also interesting is that for these states and many others the costs are much more clustered around a certain level, i.e. there is not such a spread in price."
   ]
  },
  {
   "cell_type": "markdown",
   "metadata": {},
   "source": [
    "# Most expensive states"
   ]
  },
  {
   "cell_type": "markdown",
   "metadata": {},
   "source": [
    "After looking at some specific examples of costs, now we will find the overall most expensive states."
   ]
  },
  {
   "cell_type": "code",
   "execution_count": 40,
   "metadata": {},
   "outputs": [],
   "source": [
    "states_overall = healthcare[['Provider State', ' Average Covered Charges ']]"
   ]
  },
  {
   "cell_type": "markdown",
   "metadata": {},
   "source": [
    "## Mean overall cost by State"
   ]
  },
  {
   "cell_type": "code",
   "execution_count": 64,
   "metadata": {},
   "outputs": [],
   "source": [
    "states_overall_charges = states_overall.groupby('Provider State').mean().reset_index()"
   ]
  },
  {
   "cell_type": "code",
   "execution_count": 65,
   "metadata": {},
   "outputs": [
    {
     "data": {
      "text/html": [
       "<div>\n",
       "<style scoped>\n",
       "    .dataframe tbody tr th:only-of-type {\n",
       "        vertical-align: middle;\n",
       "    }\n",
       "\n",
       "    .dataframe tbody tr th {\n",
       "        vertical-align: top;\n",
       "    }\n",
       "\n",
       "    .dataframe thead th {\n",
       "        text-align: right;\n",
       "    }\n",
       "</style>\n",
       "<table border=\"1\" class=\"dataframe\">\n",
       "  <thead>\n",
       "    <tr style=\"text-align: right;\">\n",
       "      <th></th>\n",
       "      <th>Provider State</th>\n",
       "      <th>Average Covered Charges</th>\n",
       "    </tr>\n",
       "  </thead>\n",
       "  <tbody>\n",
       "    <tr>\n",
       "      <th>0</th>\n",
       "      <td>AK</td>\n",
       "      <td>40348.743333</td>\n",
       "    </tr>\n",
       "    <tr>\n",
       "      <th>1</th>\n",
       "      <td>AL</td>\n",
       "      <td>31316.462074</td>\n",
       "    </tr>\n",
       "    <tr>\n",
       "      <th>2</th>\n",
       "      <td>AR</td>\n",
       "      <td>26174.526246</td>\n",
       "    </tr>\n",
       "    <tr>\n",
       "      <th>3</th>\n",
       "      <td>AZ</td>\n",
       "      <td>41200.063020</td>\n",
       "    </tr>\n",
       "    <tr>\n",
       "      <th>4</th>\n",
       "      <td>CA</td>\n",
       "      <td>67508.616536</td>\n",
       "    </tr>\n",
       "  </tbody>\n",
       "</table>\n",
       "</div>"
      ],
      "text/plain": [
       "  Provider State   Average Covered Charges \n",
       "0             AK               40348.743333\n",
       "1             AL               31316.462074\n",
       "2             AR               26174.526246\n",
       "3             AZ               41200.063020\n",
       "4             CA               67508.616536"
      ]
     },
     "execution_count": 65,
     "metadata": {},
     "output_type": "execute_result"
    }
   ],
   "source": [
    "states_overall_charges.head()"
   ]
  },
  {
   "cell_type": "code",
   "execution_count": 67,
   "metadata": {},
   "outputs": [
    {
     "data": {
      "image/png": "[encoded data removed]",
      "text/plain": [
       "<Figure size 720x720 with 1 Axes>"
      ]
     },
     "metadata": {},
     "output_type": "display_data"
    }
   ],
   "source": [
    "plt.figure(figsize=(10, 10))\n",
    "\n",
    "sns.barplot(y=states_overall_charges['Provider State'], x=states_overall_charges[' Average Covered Charges '])\\\n",
    "            .set_title('Overall Mean Cost of Hospital Admissions by State', fontsize=14)\n",
    "# adding a vertical line that will show the overall mean cost in the US\n",
    "plt.axvline(np.mean(states_overall_charges[' Average Covered Charges ']))\n",
    "plt.show()"
   ]
  },
  {
   "cell_type": "markdown",
   "metadata": {},
   "source": [
    "# 10 Most expensive cities and which state they are in"
   ]
  },
  {
   "cell_type": "code",
   "execution_count": 79,
   "metadata": {},
   "outputs": [],
   "source": [
    "cities_costs = healthcare[['Provider City', 'Provider State', ' Average Covered Charges ']]"
   ]
  },
  {
   "cell_type": "code",
   "execution_count": 80,
   "metadata": {},
   "outputs": [
    {
     "data": {
      "text/html": [
       "<div>\n",
       "<style scoped>\n",
       "    .dataframe tbody tr th:only-of-type {\n",
       "        vertical-align: middle;\n",
       "    }\n",
       "\n",
       "    .dataframe tbody tr th {\n",
       "        vertical-align: top;\n",
       "    }\n",
       "\n",
       "    .dataframe thead th {\n",
       "        text-align: right;\n",
       "    }\n",
       "</style>\n",
       "<table border=\"1\" class=\"dataframe\">\n",
       "  <thead>\n",
       "    <tr style=\"text-align: right;\">\n",
       "      <th></th>\n",
       "      <th>Provider City</th>\n",
       "      <th>Provider State</th>\n",
       "      <th>Average Covered Charges</th>\n",
       "    </tr>\n",
       "  </thead>\n",
       "  <tbody>\n",
       "    <tr>\n",
       "      <th>0</th>\n",
       "      <td>DOTHAN</td>\n",
       "      <td>AL</td>\n",
       "      <td>32963.07</td>\n",
       "    </tr>\n",
       "    <tr>\n",
       "      <th>1</th>\n",
       "      <td>BOAZ</td>\n",
       "      <td>AL</td>\n",
       "      <td>15131.85</td>\n",
       "    </tr>\n",
       "    <tr>\n",
       "      <th>2</th>\n",
       "      <td>FLORENCE</td>\n",
       "      <td>AL</td>\n",
       "      <td>37560.37</td>\n",
       "    </tr>\n",
       "    <tr>\n",
       "      <th>3</th>\n",
       "      <td>BIRMINGHAM</td>\n",
       "      <td>AL</td>\n",
       "      <td>13998.28</td>\n",
       "    </tr>\n",
       "    <tr>\n",
       "      <th>4</th>\n",
       "      <td>ALABASTER</td>\n",
       "      <td>AL</td>\n",
       "      <td>31633.27</td>\n",
       "    </tr>\n",
       "  </tbody>\n",
       "</table>\n",
       "</div>"
      ],
      "text/plain": [
       "  Provider City Provider State   Average Covered Charges \n",
       "0        DOTHAN             AL                   32963.07\n",
       "1          BOAZ             AL                   15131.85\n",
       "2      FLORENCE             AL                   37560.37\n",
       "3    BIRMINGHAM             AL                   13998.28\n",
       "4     ALABASTER             AL                   31633.27"
      ]
     },
     "execution_count": 80,
     "metadata": {},
     "output_type": "execute_result"
    }
   ],
   "source": [
    "cities_costs.head()"
   ]
  },
  {
   "cell_type": "code",
   "execution_count": 86,
   "metadata": {},
   "outputs": [],
   "source": [
    "cities_total_costs = cities_costs.groupby(['Provider City', 'Provider State']).mean().reset_index()"
   ]
  },
  {
   "cell_type": "code",
   "execution_count": 87,
   "metadata": {},
   "outputs": [
    {
     "data": {
      "text/html": [
       "<div>\n",
       "<style scoped>\n",
       "    .dataframe tbody tr th:only-of-type {\n",
       "        vertical-align: middle;\n",
       "    }\n",
       "\n",
       "    .dataframe tbody tr th {\n",
       "        vertical-align: top;\n",
       "    }\n",
       "\n",
       "    .dataframe thead th {\n",
       "        text-align: right;\n",
       "    }\n",
       "</style>\n",
       "<table border=\"1\" class=\"dataframe\">\n",
       "  <thead>\n",
       "    <tr style=\"text-align: right;\">\n",
       "      <th></th>\n",
       "      <th>Provider City</th>\n",
       "      <th>Provider State</th>\n",
       "      <th>Average Covered Charges</th>\n",
       "    </tr>\n",
       "  </thead>\n",
       "  <tbody>\n",
       "    <tr>\n",
       "      <th>0</th>\n",
       "      <td>ABBEVILLE</td>\n",
       "      <td>LA</td>\n",
       "      <td>17186.322222</td>\n",
       "    </tr>\n",
       "    <tr>\n",
       "      <th>1</th>\n",
       "      <td>ABERDEEN</td>\n",
       "      <td>SD</td>\n",
       "      <td>23701.567455</td>\n",
       "    </tr>\n",
       "    <tr>\n",
       "      <th>2</th>\n",
       "      <td>ABERDEEN</td>\n",
       "      <td>WA</td>\n",
       "      <td>25956.866731</td>\n",
       "    </tr>\n",
       "    <tr>\n",
       "      <th>3</th>\n",
       "      <td>ABILENE</td>\n",
       "      <td>TX</td>\n",
       "      <td>47011.945395</td>\n",
       "    </tr>\n",
       "    <tr>\n",
       "      <th>4</th>\n",
       "      <td>ABINGDON</td>\n",
       "      <td>VA</td>\n",
       "      <td>28453.788889</td>\n",
       "    </tr>\n",
       "  </tbody>\n",
       "</table>\n",
       "</div>"
      ],
      "text/plain": [
       "  Provider City Provider State   Average Covered Charges \n",
       "0     ABBEVILLE             LA               17186.322222\n",
       "1      ABERDEEN             SD               23701.567455\n",
       "2      ABERDEEN             WA               25956.866731\n",
       "3       ABILENE             TX               47011.945395\n",
       "4      ABINGDON             VA               28453.788889"
      ]
     },
     "execution_count": 87,
     "metadata": {},
     "output_type": "execute_result"
    }
   ],
   "source": [
    "cities_total_costs.head()"
   ]
  },
  {
   "cell_type": "code",
   "execution_count": 88,
   "metadata": {},
   "outputs": [],
   "source": [
    "top_10_cities = cities_total_costs.nlargest(10, ' Average Covered Charges ')"
   ]
  },
  {
   "cell_type": "code",
   "execution_count": 89,
   "metadata": {},
   "outputs": [
    {
     "data": {
      "text/html": [
       "<div>\n",
       "<style scoped>\n",
       "    .dataframe tbody tr th:only-of-type {\n",
       "        vertical-align: middle;\n",
       "    }\n",
       "\n",
       "    .dataframe tbody tr th {\n",
       "        vertical-align: top;\n",
       "    }\n",
       "\n",
       "    .dataframe thead th {\n",
       "        text-align: right;\n",
       "    }\n",
       "</style>\n",
       "<table border=\"1\" class=\"dataframe\">\n",
       "  <thead>\n",
       "    <tr style=\"text-align: right;\">\n",
       "      <th></th>\n",
       "      <th>Provider City</th>\n",
       "      <th>Provider State</th>\n",
       "      <th>Average Covered Charges</th>\n",
       "    </tr>\n",
       "  </thead>\n",
       "  <tbody>\n",
       "    <tr>\n",
       "      <th>142</th>\n",
       "      <td>BAYONNE</td>\n",
       "      <td>NJ</td>\n",
       "      <td>147441.334000</td>\n",
       "    </tr>\n",
       "    <tr>\n",
       "      <th>2066</th>\n",
       "      <td>STANFORD</td>\n",
       "      <td>CA</td>\n",
       "      <td>138818.649770</td>\n",
       "    </tr>\n",
       "    <tr>\n",
       "      <th>683</th>\n",
       "      <td>FAIRFIELD</td>\n",
       "      <td>CA</td>\n",
       "      <td>138504.546230</td>\n",
       "    </tr>\n",
       "    <tr>\n",
       "      <th>2206</th>\n",
       "      <td>UPLAND</td>\n",
       "      <td>PA</td>\n",
       "      <td>137130.847732</td>\n",
       "    </tr>\n",
       "    <tr>\n",
       "      <th>768</th>\n",
       "      <td>FREMONT</td>\n",
       "      <td>CA</td>\n",
       "      <td>131510.122375</td>\n",
       "    </tr>\n",
       "    <tr>\n",
       "      <th>519</th>\n",
       "      <td>DALY CITY</td>\n",
       "      <td>CA</td>\n",
       "      <td>130177.362615</td>\n",
       "    </tr>\n",
       "    <tr>\n",
       "      <th>2210</th>\n",
       "      <td>VACAVILLE</td>\n",
       "      <td>CA</td>\n",
       "      <td>122472.350000</td>\n",
       "    </tr>\n",
       "    <tr>\n",
       "      <th>454</th>\n",
       "      <td>CONCORD</td>\n",
       "      <td>CA</td>\n",
       "      <td>118991.825395</td>\n",
       "    </tr>\n",
       "    <tr>\n",
       "      <th>2255</th>\n",
       "      <td>WALNUT CREEK</td>\n",
       "      <td>CA</td>\n",
       "      <td>113621.525055</td>\n",
       "    </tr>\n",
       "    <tr>\n",
       "      <th>1961</th>\n",
       "      <td>SECAUCUS</td>\n",
       "      <td>NJ</td>\n",
       "      <td>109967.058667</td>\n",
       "    </tr>\n",
       "  </tbody>\n",
       "</table>\n",
       "</div>"
      ],
      "text/plain": [
       "     Provider City Provider State   Average Covered Charges \n",
       "142        BAYONNE             NJ              147441.334000\n",
       "2066      STANFORD             CA              138818.649770\n",
       "683      FAIRFIELD             CA              138504.546230\n",
       "2206        UPLAND             PA              137130.847732\n",
       "768        FREMONT             CA              131510.122375\n",
       "519      DALY CITY             CA              130177.362615\n",
       "2210     VACAVILLE             CA              122472.350000\n",
       "454        CONCORD             CA              118991.825395\n",
       "2255  WALNUT CREEK             CA              113621.525055\n",
       "1961      SECAUCUS             NJ              109967.058667"
      ]
     },
     "execution_count": 89,
     "metadata": {},
     "output_type": "execute_result"
    }
   ],
   "source": [
    "top_10_cities"
   ]
  },
  {
   "cell_type": "markdown",
   "metadata": {},
   "source": [
    "# Cheapest cities"
   ]
  },
  {
   "cell_type": "code",
   "execution_count": 90,
   "metadata": {},
   "outputs": [],
   "source": [
    "bottom_10_cities = cities_total_costs.nsmallest(10, ' Average Covered Charges ')"
   ]
  },
  {
   "cell_type": "code",
   "execution_count": 91,
   "metadata": {},
   "outputs": [
    {
     "data": {
      "text/html": [
       "<div>\n",
       "<style scoped>\n",
       "    .dataframe tbody tr th:only-of-type {\n",
       "        vertical-align: middle;\n",
       "    }\n",
       "\n",
       "    .dataframe tbody tr th {\n",
       "        vertical-align: top;\n",
       "    }\n",
       "\n",
       "    .dataframe thead th {\n",
       "        text-align: right;\n",
       "    }\n",
       "</style>\n",
       "<table border=\"1\" class=\"dataframe\">\n",
       "  <thead>\n",
       "    <tr style=\"text-align: right;\">\n",
       "      <th></th>\n",
       "      <th>Provider City</th>\n",
       "      <th>Provider State</th>\n",
       "      <th>Average Covered Charges</th>\n",
       "    </tr>\n",
       "  </thead>\n",
       "  <tbody>\n",
       "    <tr>\n",
       "      <th>565</th>\n",
       "      <td>DILLEY</td>\n",
       "      <td>TX</td>\n",
       "      <td>2995.610000</td>\n",
       "    </tr>\n",
       "    <tr>\n",
       "      <th>1861</th>\n",
       "      <td>ROLLING FORK</td>\n",
       "      <td>MS</td>\n",
       "      <td>3369.955000</td>\n",
       "    </tr>\n",
       "    <tr>\n",
       "      <th>1119</th>\n",
       "      <td>KNOX CITY</td>\n",
       "      <td>TX</td>\n",
       "      <td>3677.000000</td>\n",
       "    </tr>\n",
       "    <tr>\n",
       "      <th>2343</th>\n",
       "      <td>WHITNEY</td>\n",
       "      <td>TX</td>\n",
       "      <td>3906.842727</td>\n",
       "    </tr>\n",
       "    <tr>\n",
       "      <th>1148</th>\n",
       "      <td>LAKE PROVIDENCE</td>\n",
       "      <td>LA</td>\n",
       "      <td>4318.224444</td>\n",
       "    </tr>\n",
       "    <tr>\n",
       "      <th>2274</th>\n",
       "      <td>WATER VALLEY</td>\n",
       "      <td>MS</td>\n",
       "      <td>4402.926667</td>\n",
       "    </tr>\n",
       "    <tr>\n",
       "      <th>597</th>\n",
       "      <td>EAGLEVILLE</td>\n",
       "      <td>PA</td>\n",
       "      <td>4458.910000</td>\n",
       "    </tr>\n",
       "    <tr>\n",
       "      <th>1103</th>\n",
       "      <td>KILMICHAEL</td>\n",
       "      <td>MS</td>\n",
       "      <td>4537.813333</td>\n",
       "    </tr>\n",
       "    <tr>\n",
       "      <th>304</th>\n",
       "      <td>CAMDEN</td>\n",
       "      <td>AL</td>\n",
       "      <td>4616.580000</td>\n",
       "    </tr>\n",
       "    <tr>\n",
       "      <th>671</th>\n",
       "      <td>EUTAW</td>\n",
       "      <td>AL</td>\n",
       "      <td>4729.851111</td>\n",
       "    </tr>\n",
       "  </tbody>\n",
       "</table>\n",
       "</div>"
      ],
      "text/plain": [
       "        Provider City Provider State   Average Covered Charges \n",
       "565            DILLEY             TX                2995.610000\n",
       "1861     ROLLING FORK             MS                3369.955000\n",
       "1119        KNOX CITY             TX                3677.000000\n",
       "2343          WHITNEY             TX                3906.842727\n",
       "1148  LAKE PROVIDENCE             LA                4318.224444\n",
       "2274     WATER VALLEY             MS                4402.926667\n",
       "597        EAGLEVILLE             PA                4458.910000\n",
       "1103       KILMICHAEL             MS                4537.813333\n",
       "304            CAMDEN             AL                4616.580000\n",
       "671             EUTAW             AL                4729.851111"
      ]
     },
     "execution_count": 91,
     "metadata": {},
     "output_type": "execute_result"
    }
   ],
   "source": [
    "bottom_10_cities"
   ]
  }
 ],
 "metadata": {
  "kernelspec": {
   "display_name": "Python 3",
   "language": "python",
   "name": "python3"
  },
  "language_info": {
   "codemirror_mode": {
    "name": "ipython",
    "version": 3
   },
   "file_extension": ".py",
   "mimetype": "text/x-python",
   "name": "python",
   "nbconvert_exporter": "python",
   "pygments_lexer": "ipython3",
   "version": "3.7.4"
  },
  "toc": {
   "base_numbering": 1,
   "nav_menu": {},
   "number_sections": true,
   "sideBar": true,
   "skip_h1_title": false,
   "title_cell": "Table of Contents",
   "title_sidebar": "Contents",
   "toc_cell": true,
   "toc_position": {},
   "toc_section_display": true,
   "toc_window_display": true
  },
  "varInspector": {
   "cols": {
    "lenName": 16,
    "lenType": 16,
    "lenVar": 40
   },
   "kernels_config": {
    "python": {
     "delete_cmd_postfix": "",
     "delete_cmd_prefix": "del ",
     "library": "var_list.py",
     "varRefreshCmd": "print(var_dic_list())"
    },
    "r": {
     "delete_cmd_postfix": ") ",
     "delete_cmd_prefix": "rm(",
     "library": "var_list.r",
     "varRefreshCmd": "cat(var_dic_list()) "
    }
   },
   "types_to_exclude": [
    "module",
    "function",
    "builtin_function_or_method",
    "instance",
    "_Feature"
   ],
   "window_display": false
  }
 },
 "nbformat": 4,
 "nbformat_minor": 4
}
